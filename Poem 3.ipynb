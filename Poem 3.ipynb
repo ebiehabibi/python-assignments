{
 "cells": [
  {
   "cell_type": "code",
   "execution_count": 17,
   "id": "b445d4ae",
   "metadata": {},
   "outputs": [
    {
     "name": "stdout",
     "output_type": "stream",
     "text": [
      "textured time\n",
      "decreases in speed\n",
      "from 4 to 3\n",
      "quickly\n",
      "\n",
      "\n",
      "I back hand springed into\n",
      "the past\n",
      "\n",
      "\n",
      "cosmic trash at my door step\n",
      "it crept back in\n",
      "through my\n",
      "\n",
      "\n",
      "t\n",
      "h\n",
      "o\n",
      "u\n",
      "g\n",
      "h\n",
      "t\n",
      "s\n",
      "\n",
      "\n",
      "and vast open space that the ether makes\n"
     ]
    }
   ],
   "source": [
    "a = \"I\"\n",
    "b = \"to\"\n",
    "end = \"in\"\n",
    "elements = 'ether'\n",
    "my_string = 'thoughts'\n",
    "muah = \"kisses\"\n",
    "print('textured time')\n",
    "print(f'decreases {end} speed') \n",
    "print('from 4 to 3')\n",
    "print(\"quickly\")\n",
    "print('\\n') \n",
    "print(f'{a} back hand springed {end}{b}')\n",
    "print('the past')\n",
    "print('\\n')\n",
    "print('cosmic trash at my door step')\n",
    "print(f'it crept back {end}')\n",
    "print('through my') \n",
    "print('\\n')\n",
    "for l in my_string:\n",
    "    print(l)\n",
    "print('\\n')\n",
    "print(f'and vast open space that the {elements} makes')"
   ]
  },
  {
   "cell_type": "code",
   "execution_count": null,
   "id": "390b5358",
   "metadata": {},
   "outputs": [],
   "source": []
  }
 ],
 "metadata": {
  "kernelspec": {
   "display_name": "Python 3",
   "language": "python",
   "name": "python3"
  },
  "language_info": {
   "codemirror_mode": {
    "name": "ipython",
    "version": 3
   },
   "file_extension": ".py",
   "mimetype": "text/x-python",
   "name": "python",
   "nbconvert_exporter": "python",
   "pygments_lexer": "ipython3",
   "version": "3.8.8"
  }
 },
 "nbformat": 4,
 "nbformat_minor": 5
}
