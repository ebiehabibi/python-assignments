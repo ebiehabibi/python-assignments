{
 "cells": [
  {
   "cell_type": "code",
   "execution_count": 3,
   "id": "d2e1ddfa",
   "metadata": {},
   "outputs": [
    {
     "data": {
      "text/plain": [
       "2"
      ]
     },
     "execution_count": 3,
     "metadata": {},
     "output_type": "execute_result"
    }
   ],
   "source": [
    "# this is addition\n",
    "\n",
    "1+1"
   ]
  },
  {
   "cell_type": "code",
   "execution_count": 2,
   "id": "4696f6b6",
   "metadata": {},
   "outputs": [],
   "source": [
    "# add comment here"
   ]
  },
  {
   "cell_type": "code",
   "execution_count": 4,
   "id": "75702d7e",
   "metadata": {},
   "outputs": [
    {
     "data": {
      "text/plain": [
       "0"
      ]
     },
     "execution_count": 4,
     "metadata": {},
     "output_type": "execute_result"
    }
   ],
   "source": [
    "1-1"
   ]
  },
  {
   "cell_type": "code",
   "execution_count": 6,
   "id": "94c4574c",
   "metadata": {},
   "outputs": [
    {
     "data": {
      "text/plain": [
       "3"
      ]
     },
     "execution_count": 6,
     "metadata": {},
     "output_type": "execute_result"
    }
   ],
   "source": [
    "1+2"
   ]
  },
  {
   "cell_type": "code",
   "execution_count": 7,
   "id": "7942dbae",
   "metadata": {},
   "outputs": [
    {
     "data": {
      "text/plain": [
       "0.5"
      ]
     },
     "execution_count": 7,
     "metadata": {},
     "output_type": "execute_result"
    }
   ],
   "source": [
    "1/2"
   ]
  },
  {
   "cell_type": "code",
   "execution_count": 8,
   "id": "929336ba",
   "metadata": {},
   "outputs": [
    {
     "data": {
      "text/plain": [
       "27"
      ]
     },
     "execution_count": 8,
     "metadata": {},
     "output_type": "execute_result"
    }
   ],
   "source": [
    "3**3"
   ]
  },
  {
   "cell_type": "code",
   "execution_count": 9,
   "id": "b6ddba36",
   "metadata": {},
   "outputs": [],
   "source": [
    "a = 1"
   ]
  },
  {
   "cell_type": "code",
   "execution_count": 10,
   "id": "20493382",
   "metadata": {},
   "outputs": [
    {
     "data": {
      "text/plain": [
       "2"
      ]
     },
     "execution_count": 10,
     "metadata": {},
     "output_type": "execute_result"
    }
   ],
   "source": [
    "a + a "
   ]
  },
  {
   "cell_type": "code",
   "execution_count": 11,
   "id": "caf6bf84",
   "metadata": {},
   "outputs": [],
   "source": [
    "my_number = 1"
   ]
  },
  {
   "cell_type": "code",
   "execution_count": 12,
   "id": "8b2ad92e",
   "metadata": {},
   "outputs": [],
   "source": [
    "x = 2"
   ]
  },
  {
   "cell_type": "code",
   "execution_count": 13,
   "id": "ef9d7e3b",
   "metadata": {},
   "outputs": [
    {
     "name": "stdout",
     "output_type": "stream",
     "text": [
      "2\n"
     ]
    }
   ],
   "source": [
    "print(x)"
   ]
  },
  {
   "cell_type": "code",
   "execution_count": 14,
   "id": "2a303887",
   "metadata": {},
   "outputs": [],
   "source": [
    "x /= 3"
   ]
  },
  {
   "cell_type": "code",
   "execution_count": 15,
   "id": "84e6aae0",
   "metadata": {},
   "outputs": [
    {
     "name": "stdout",
     "output_type": "stream",
     "text": [
      "0.6666666666666666\n"
     ]
    }
   ],
   "source": [
    "print(x)"
   ]
  },
  {
   "cell_type": "code",
   "execution_count": 16,
   "id": "ad3f48a7",
   "metadata": {},
   "outputs": [
    {
     "ename": "NameError",
     "evalue": "name 'hello' is not defined",
     "output_type": "error",
     "traceback": [
      "\u001b[0;31m---------------------------------------------------------------------------\u001b[0m",
      "\u001b[0;31mNameError\u001b[0m                                 Traceback (most recent call last)",
      "\u001b[0;32m<ipython-input-16-f572d396fae9>\u001b[0m in \u001b[0;36m<module>\u001b[0;34m\u001b[0m\n\u001b[0;32m----> 1\u001b[0;31m \u001b[0mhello\u001b[0m\u001b[0;34m\u001b[0m\u001b[0;34m\u001b[0m\u001b[0m\n\u001b[0m",
      "\u001b[0;31mNameError\u001b[0m: name 'hello' is not defined"
     ]
    }
   ],
   "source": [
    "hello"
   ]
  },
  {
   "cell_type": "code",
   "execution_count": 17,
   "id": "3a9728dd",
   "metadata": {},
   "outputs": [
    {
     "data": {
      "text/plain": [
       "'hello'"
      ]
     },
     "execution_count": 17,
     "metadata": {},
     "output_type": "execute_result"
    }
   ],
   "source": [
    "'hello'"
   ]
  },
  {
   "cell_type": "code",
   "execution_count": 18,
   "id": "c4f5b5cc",
   "metadata": {},
   "outputs": [
    {
     "data": {
      "text/plain": [
       "\"hello world, it's me\""
      ]
     },
     "execution_count": 18,
     "metadata": {},
     "output_type": "execute_result"
    }
   ],
   "source": [
    "\"hello world, it's me\""
   ]
  },
  {
   "cell_type": "code",
   "execution_count": 19,
   "id": "a419ff19",
   "metadata": {},
   "outputs": [
    {
     "name": "stdout",
     "output_type": "stream",
     "text": [
      "hello\n"
     ]
    }
   ],
   "source": [
    "print('hello')"
   ]
  },
  {
   "cell_type": "code",
   "execution_count": 20,
   "id": "75ccbafc",
   "metadata": {},
   "outputs": [
    {
     "name": "stdout",
     "output_type": "stream",
     "text": [
      "hello\n",
      "it's me\n"
     ]
    }
   ],
   "source": [
    "print('hello')\n",
    "print(\"it's me\")"
   ]
  },
  {
   "cell_type": "code",
   "execution_count": 21,
   "id": "31fdbc14",
   "metadata": {},
   "outputs": [
    {
     "name": "stdout",
     "output_type": "stream",
     "text": [
      "hello\n",
      "it's me\n",
      "\n",
      "\n",
      "I was wondering if after all these years you'd like to meet\n"
     ]
    }
   ],
   "source": [
    "print('hello')\n",
    "print(\"it's me\")\n",
    "print('\\n') #linebreak\n",
    "print(\"I was wondering if after all these years you'd like to meet\")"
   ]
  },
  {
   "cell_type": "code",
   "execution_count": 22,
   "id": "e364a5a9",
   "metadata": {},
   "outputs": [
    {
     "name": "stdout",
     "output_type": "stream",
     "text": [
      "hello yall \n",
      "welcome to python\n"
     ]
    }
   ],
   "source": [
    "print('''hello yall \n",
    "welcome to python''')"
   ]
  },
  {
   "cell_type": "code",
   "execution_count": 23,
   "id": "dde8811f",
   "metadata": {},
   "outputs": [
    {
     "ename": "SyntaxError",
     "evalue": "invalid character in identifier (<ipython-input-23-975dc4240521>, line 1)",
     "output_type": "error",
     "traceback": [
      "\u001b[0;36m  File \u001b[0;32m\"<ipython-input-23-975dc4240521>\"\u001b[0;36m, line \u001b[0;32m1\u001b[0m\n\u001b[0;31m    Print(type(‘hello’))\u001b[0m\n\u001b[0m                     ^\u001b[0m\n\u001b[0;31mSyntaxError\u001b[0m\u001b[0;31m:\u001b[0m invalid character in identifier\n"
     ]
    }
   ],
   "source": [
    "Print(type(‘hello’))"
   ]
  },
  {
   "cell_type": "code",
   "execution_count": 24,
   "id": "fb2fcadc",
   "metadata": {},
   "outputs": [
    {
     "name": "stdout",
     "output_type": "stream",
     "text": [
      "<class 'str'>\n"
     ]
    }
   ],
   "source": [
    "print(type('hello'))"
   ]
  },
  {
   "cell_type": "code",
   "execution_count": 25,
   "id": "a28ca197",
   "metadata": {},
   "outputs": [
    {
     "data": {
      "text/plain": [
       "5"
      ]
     },
     "execution_count": 25,
     "metadata": {},
     "output_type": "execute_result"
    }
   ],
   "source": [
    "len('hello')"
   ]
  },
  {
   "cell_type": "code",
   "execution_count": 26,
   "id": "cc5fc4a1",
   "metadata": {},
   "outputs": [
    {
     "data": {
      "text/plain": [
       "7"
      ]
     },
     "execution_count": 26,
     "metadata": {},
     "output_type": "execute_result"
    }
   ],
   "source": [
    "len('whatsup')"
   ]
  },
  {
   "cell_type": "code",
   "execution_count": 27,
   "id": "78666e7e",
   "metadata": {},
   "outputs": [],
   "source": [
    "b = 'whats up'"
   ]
  },
  {
   "cell_type": "code",
   "execution_count": 28,
   "id": "9ee83158",
   "metadata": {},
   "outputs": [
    {
     "name": "stdout",
     "output_type": "stream",
     "text": [
      "whats up\n"
     ]
    }
   ],
   "source": [
    "print(b)"
   ]
  },
  {
   "cell_type": "code",
   "execution_count": 29,
   "id": "5f421bbc",
   "metadata": {},
   "outputs": [
    {
     "data": {
      "text/plain": [
       "'w'"
      ]
     },
     "execution_count": 29,
     "metadata": {},
     "output_type": "execute_result"
    }
   ],
   "source": [
    "b[0]"
   ]
  },
  {
   "cell_type": "code",
   "execution_count": 30,
   "id": "c2bb236f",
   "metadata": {},
   "outputs": [
    {
     "data": {
      "text/plain": [
       "'h'"
      ]
     },
     "execution_count": 30,
     "metadata": {},
     "output_type": "execute_result"
    }
   ],
   "source": [
    "b[1]"
   ]
  },
  {
   "cell_type": "code",
   "execution_count": 31,
   "id": "0e64518b",
   "metadata": {},
   "outputs": [
    {
     "data": {
      "text/plain": [
       "' up'"
      ]
     },
     "execution_count": 31,
     "metadata": {},
     "output_type": "execute_result"
    }
   ],
   "source": [
    "b[5:]"
   ]
  },
  {
   "cell_type": "code",
   "execution_count": 32,
   "id": "b5e5c200",
   "metadata": {},
   "outputs": [
    {
     "data": {
      "text/plain": [
       "'s up'"
      ]
     },
     "execution_count": 32,
     "metadata": {},
     "output_type": "execute_result"
    }
   ],
   "source": [
    "b[4:]"
   ]
  },
  {
   "cell_type": "code",
   "execution_count": 33,
   "id": "044fb32b",
   "metadata": {},
   "outputs": [
    {
     "data": {
      "text/plain": [
       "'p'"
      ]
     },
     "execution_count": 33,
     "metadata": {},
     "output_type": "execute_result"
    }
   ],
   "source": [
    "b[-1:]"
   ]
  },
  {
   "cell_type": "code",
   "execution_count": 34,
   "id": "9c27b342",
   "metadata": {},
   "outputs": [
    {
     "data": {
      "text/plain": [
       "'pu stahw'"
      ]
     },
     "execution_count": 34,
     "metadata": {},
     "output_type": "execute_result"
    }
   ],
   "source": [
    "b[::-1]"
   ]
  },
  {
   "cell_type": "code",
   "execution_count": 35,
   "id": "f6844ce6",
   "metadata": {},
   "outputs": [
    {
     "data": {
      "text/plain": [
       "'wasu'"
      ]
     },
     "execution_count": 35,
     "metadata": {},
     "output_type": "execute_result"
    }
   ],
   "source": [
    "b[::2]"
   ]
  },
  {
   "cell_type": "code",
   "execution_count": 36,
   "id": "e2eae9d8",
   "metadata": {},
   "outputs": [],
   "source": [
    "# string method "
   ]
  },
  {
   "cell_type": "code",
   "execution_count": 37,
   "id": "47a3bffb",
   "metadata": {},
   "outputs": [
    {
     "data": {
      "text/plain": [
       "'WHATS UP'"
      ]
     },
     "execution_count": 37,
     "metadata": {},
     "output_type": "execute_result"
    }
   ],
   "source": [
    "b.upper()"
   ]
  },
  {
   "cell_type": "code",
   "execution_count": 38,
   "id": "d493a5f5",
   "metadata": {},
   "outputs": [
    {
     "data": {
      "text/plain": [
       "'whats up'"
      ]
     },
     "execution_count": 38,
     "metadata": {},
     "output_type": "execute_result"
    }
   ],
   "source": [
    "b.lower()"
   ]
  },
  {
   "cell_type": "code",
   "execution_count": 39,
   "id": "a411fb02",
   "metadata": {},
   "outputs": [
    {
     "data": {
      "text/plain": [
       "['whats', 'up']"
      ]
     },
     "execution_count": 39,
     "metadata": {},
     "output_type": "execute_result"
    }
   ],
   "source": [
    "b.split()"
   ]
  },
  {
   "cell_type": "code",
   "execution_count": 40,
   "id": "4cdd96be",
   "metadata": {},
   "outputs": [
    {
     "data": {
      "text/plain": [
       "'whats up'"
      ]
     },
     "execution_count": 40,
     "metadata": {},
     "output_type": "execute_result"
    }
   ],
   "source": [
    "b"
   ]
  },
  {
   "cell_type": "code",
   "execution_count": 42,
   "id": "e550e958",
   "metadata": {},
   "outputs": [
    {
     "data": {
      "text/plain": [
       "\"whats up it's me\""
      ]
     },
     "execution_count": 42,
     "metadata": {},
     "output_type": "execute_result"
    }
   ],
   "source": [
    "b + \" it's me\""
   ]
  },
  {
   "cell_type": "code",
   "execution_count": 43,
   "id": "7348f712",
   "metadata": {},
   "outputs": [],
   "source": [
    "# string interpulation"
   ]
  },
  {
   "cell_type": "code",
   "execution_count": 49,
   "id": "c085ba65",
   "metadata": {},
   "outputs": [],
   "source": [
    "number = 14"
   ]
  },
  {
   "cell_type": "code",
   "execution_count": 50,
   "id": "d03585b6",
   "metadata": {},
   "outputs": [
    {
     "name": "stdout",
     "output_type": "stream",
     "text": [
      "whats up, there are 14 of us in class\n"
     ]
    }
   ],
   "source": [
    "print(f'whats up, there are {number} of us in class')"
   ]
  },
  {
   "cell_type": "code",
   "execution_count": 51,
   "id": "72d1e8d3",
   "metadata": {},
   "outputs": [
    {
     "name": "stdout",
     "output_type": "stream",
     "text": [
      "whats up, there are 14 of us in class!\n"
     ]
    }
   ],
   "source": [
    "print(\"whats up, there are {} of us in class!\".format(number))"
   ]
  },
  {
   "cell_type": "code",
   "execution_count": 53,
   "id": "66c3f686",
   "metadata": {},
   "outputs": [
    {
     "name": "stdout",
     "output_type": "stream",
     "text": [
      "whats up, there are 6 of us in class and today is wednesday\n"
     ]
    }
   ],
   "source": [
    "number = 6\n",
    "day = 'wednesday'\n",
    "print(f'whats up, there are {number} of us in class and today is {day}')"
   ]
  },
  {
   "cell_type": "code",
   "execution_count": 54,
   "id": "99842407",
   "metadata": {},
   "outputs": [],
   "source": [
    "# list"
   ]
  },
  {
   "cell_type": "code",
   "execution_count": 55,
   "id": "6896e3ed",
   "metadata": {},
   "outputs": [],
   "source": [
    "list_of_years = [2019,2020,2021]"
   ]
  },
  {
   "cell_type": "code",
   "execution_count": 56,
   "id": "d7ef43e5",
   "metadata": {},
   "outputs": [],
   "source": [
    "list_of_events = ['pre-pandemic','pandemic','postpandemic']"
   ]
  },
  {
   "cell_type": "code",
   "execution_count": 57,
   "id": "7ce163a7",
   "metadata": {},
   "outputs": [],
   "source": [
    "list_of_mix = ['pre-pandemic',2020,'post-pandemic']"
   ]
  },
  {
   "cell_type": "code",
   "execution_count": 58,
   "id": "d09505ec",
   "metadata": {},
   "outputs": [
    {
     "data": {
      "text/plain": [
       "3"
      ]
     },
     "execution_count": 58,
     "metadata": {},
     "output_type": "execute_result"
    }
   ],
   "source": [
    "len(list_of_years)"
   ]
  },
  {
   "cell_type": "code",
   "execution_count": 59,
   "id": "c5d143d6",
   "metadata": {},
   "outputs": [
    {
     "data": {
      "text/plain": [
       "2019"
      ]
     },
     "execution_count": 59,
     "metadata": {},
     "output_type": "execute_result"
    }
   ],
   "source": [
    "list_of_years[0]"
   ]
  },
  {
   "cell_type": "code",
   "execution_count": 60,
   "id": "96650a75",
   "metadata": {},
   "outputs": [
    {
     "data": {
      "text/plain": [
       "2020"
      ]
     },
     "execution_count": 60,
     "metadata": {},
     "output_type": "execute_result"
    }
   ],
   "source": [
    "list_of_years[1]"
   ]
  },
  {
   "cell_type": "code",
   "execution_count": 61,
   "id": "bf2d398f",
   "metadata": {},
   "outputs": [
    {
     "data": {
      "text/plain": [
       "2021"
      ]
     },
     "execution_count": 61,
     "metadata": {},
     "output_type": "execute_result"
    }
   ],
   "source": [
    "list_of_years[2]"
   ]
  },
  {
   "cell_type": "code",
   "execution_count": 62,
   "id": "7dd6abb5",
   "metadata": {},
   "outputs": [
    {
     "data": {
      "text/plain": [
       "[2020, 'post-pandemic']"
      ]
     },
     "execution_count": 62,
     "metadata": {},
     "output_type": "execute_result"
    }
   ],
   "source": [
    "list_of_mix[1:]"
   ]
  },
  {
   "cell_type": "code",
   "execution_count": 63,
   "id": "231d38b5",
   "metadata": {},
   "outputs": [
    {
     "data": {
      "text/plain": [
       "['pre-pandemic']"
      ]
     },
     "execution_count": 63,
     "metadata": {},
     "output_type": "execute_result"
    }
   ],
   "source": [
    "list_of_mix[:1]"
   ]
  },
  {
   "cell_type": "code",
   "execution_count": 64,
   "id": "8efe54da",
   "metadata": {},
   "outputs": [
    {
     "data": {
      "text/plain": [
       "[2019, 2020, 2021, 2022]"
      ]
     },
     "execution_count": 64,
     "metadata": {},
     "output_type": "execute_result"
    }
   ],
   "source": [
    "list_of_years + [2022]"
   ]
  },
  {
   "cell_type": "code",
   "execution_count": 65,
   "id": "2af29f48",
   "metadata": {},
   "outputs": [
    {
     "name": "stdout",
     "output_type": "stream",
     "text": [
      "[2019, 2020, 2021]\n"
     ]
    }
   ],
   "source": [
    "print (list_of_years)"
   ]
  },
  {
   "cell_type": "code",
   "execution_count": 66,
   "id": "be4cd8f0",
   "metadata": {},
   "outputs": [],
   "source": [
    "list_of_years = list_of_years +[2022]"
   ]
  },
  {
   "cell_type": "code",
   "execution_count": 67,
   "id": "446f1b98",
   "metadata": {},
   "outputs": [],
   "source": [
    "# APPEND"
   ]
  },
  {
   "cell_type": "code",
   "execution_count": 68,
   "id": "3418f505",
   "metadata": {},
   "outputs": [],
   "source": [
    "list_of_years.append(2023)"
   ]
  },
  {
   "cell_type": "code",
   "execution_count": 69,
   "id": "9a1bb9ca",
   "metadata": {},
   "outputs": [
    {
     "name": "stdout",
     "output_type": "stream",
     "text": [
      "[2019, 2020, 2021, 2022, 2023]\n"
     ]
    }
   ],
   "source": [
    "print(list_of_years)"
   ]
  },
  {
   "cell_type": "code",
   "execution_count": 70,
   "id": "9d4e82da",
   "metadata": {},
   "outputs": [],
   "source": [
    "#pop"
   ]
  },
  {
   "cell_type": "code",
   "execution_count": 72,
   "id": "cfda5906",
   "metadata": {},
   "outputs": [
    {
     "data": {
      "text/plain": [
       "2019"
      ]
     },
     "execution_count": 72,
     "metadata": {},
     "output_type": "execute_result"
    }
   ],
   "source": [
    "list_of_years.pop(0)"
   ]
  },
  {
   "cell_type": "code",
   "execution_count": 73,
   "id": "2bbc8df3",
   "metadata": {},
   "outputs": [
    {
     "name": "stdout",
     "output_type": "stream",
     "text": [
      "[2020, 2021, 2022, 2023]\n"
     ]
    }
   ],
   "source": [
    "print(list_of_years)"
   ]
  },
  {
   "cell_type": "code",
   "execution_count": 74,
   "id": "737bacb0",
   "metadata": {},
   "outputs": [],
   "source": [
    "# sort"
   ]
  },
  {
   "cell_type": "code",
   "execution_count": 75,
   "id": "72f5eafc",
   "metadata": {},
   "outputs": [],
   "source": [
    "list_of_years.sort()"
   ]
  },
  {
   "cell_type": "code",
   "execution_count": 76,
   "id": "ee170a98",
   "metadata": {},
   "outputs": [
    {
     "name": "stdout",
     "output_type": "stream",
     "text": [
      "['pre-pandemic', 'pandemic', 'postpandemic']\n"
     ]
    }
   ],
   "source": [
    "print (list_of_events)"
   ]
  },
  {
   "cell_type": "code",
   "execution_count": 77,
   "id": "e94b7a92",
   "metadata": {},
   "outputs": [],
   "source": [
    "#list"
   ]
  },
  {
   "cell_type": "code",
   "execution_count": 78,
   "id": "2741ab87",
   "metadata": {},
   "outputs": [],
   "source": [
    "first=[1,2,3]\n",
    "second=[4,5,6]\n",
    "third=[7,8,9]"
   ]
  },
  {
   "cell_type": "code",
   "execution_count": 79,
   "id": "b6af8c70",
   "metadata": {},
   "outputs": [],
   "source": [
    "matrix = [first,second,third]"
   ]
  },
  {
   "cell_type": "code",
   "execution_count": 80,
   "id": "2dac1988",
   "metadata": {},
   "outputs": [
    {
     "name": "stdout",
     "output_type": "stream",
     "text": [
      "[[1, 2, 3], [4, 5, 6], [7, 8, 9]]\n"
     ]
    }
   ],
   "source": [
    "print(matrix)"
   ]
  },
  {
   "cell_type": "code",
   "execution_count": 81,
   "id": "a9ad65be",
   "metadata": {},
   "outputs": [],
   "source": [
    "# nested list, putting a list within a list"
   ]
  },
  {
   "cell_type": "code",
   "execution_count": 82,
   "id": "93fbb3c1",
   "metadata": {},
   "outputs": [
    {
     "data": {
      "text/plain": [
       "[1, 2, 3]"
      ]
     },
     "execution_count": 82,
     "metadata": {},
     "output_type": "execute_result"
    }
   ],
   "source": [
    "matrix[0]"
   ]
  },
  {
   "cell_type": "code",
   "execution_count": 83,
   "id": "f1d0211b",
   "metadata": {},
   "outputs": [
    {
     "data": {
      "text/plain": [
       "1"
      ]
     },
     "execution_count": 83,
     "metadata": {},
     "output_type": "execute_result"
    }
   ],
   "source": [
    "matrix[0][0]"
   ]
  },
  {
   "cell_type": "code",
   "execution_count": 84,
   "id": "a9e85549",
   "metadata": {},
   "outputs": [
    {
     "data": {
      "text/plain": [
       "4"
      ]
     },
     "execution_count": 84,
     "metadata": {},
     "output_type": "execute_result"
    }
   ],
   "source": [
    "matrix[1][0]"
   ]
  },
  {
   "cell_type": "code",
   "execution_count": 85,
   "id": "90752967",
   "metadata": {},
   "outputs": [],
   "source": [
    "my_dict = {'key_1 : value_1’, ‘key_2 : value_2’,key_3 : value_3'}"
   ]
  },
  {
   "cell_type": "code",
   "execution_count": 2,
   "id": "13d48926",
   "metadata": {},
   "outputs": [],
   "source": [
    "my_new_dict = {'code': 'Ms. Love' ,'names' : {'Ebie','love'}}"
   ]
  },
  {
   "cell_type": "code",
   "execution_count": 4,
   "id": "9d506fae-aec7-46d1-a94b-7b677e3785ae",
   "metadata": {},
   "outputs": [],
   "source": [
    "# tuple"
   ]
  },
  {
   "cell_type": "code",
   "execution_count": 5,
   "id": "614ec981-9eae-4d96-93cf-e219d1666973",
   "metadata": {},
   "outputs": [],
   "source": [
    "my_tuple = (0, 1, 'one', 2, 'three',)"
   ]
  },
  {
   "cell_type": "code",
   "execution_count": 6,
   "id": "38c6551e-ba87-40dc-8d4a-ab415ea8c5bb",
   "metadata": {},
   "outputs": [
    {
     "data": {
      "text/plain": [
       "5"
      ]
     },
     "execution_count": 6,
     "metadata": {},
     "output_type": "execute_result"
    }
   ],
   "source": [
    "len(my_tuple)"
   ]
  },
  {
   "cell_type": "code",
   "execution_count": 7,
   "id": "4a5d6579-8f39-4425-9810-c98e8845b100",
   "metadata": {},
   "outputs": [
    {
     "ename": "AttributeError",
     "evalue": "'tuple' object has no attribute 'append'",
     "output_type": "error",
     "traceback": [
      "\u001b[0;31m---------------------------------------------------------------------------\u001b[0m",
      "\u001b[0;31mAttributeError\u001b[0m                            Traceback (most recent call last)",
      "\u001b[0;32m<ipython-input-7-4a55559a5486>\u001b[0m in \u001b[0;36m<module>\u001b[0;34m\u001b[0m\n\u001b[0;32m----> 1\u001b[0;31m \u001b[0mmy_tuple\u001b[0m\u001b[0;34m.\u001b[0m\u001b[0mappend\u001b[0m\u001b[0;34m(\u001b[0m\u001b[0;34m'four'\u001b[0m\u001b[0;34m)\u001b[0m\u001b[0;34m\u001b[0m\u001b[0;34m\u001b[0m\u001b[0m\n\u001b[0m",
      "\u001b[0;31mAttributeError\u001b[0m: 'tuple' object has no attribute 'append'"
     ]
    }
   ],
   "source": [
    "my_tuple.append('four')"
   ]
  },
  {
   "cell_type": "code",
   "execution_count": 9,
   "id": "e3724dda-5c8b-42d6-8d27-16a77edf1772",
   "metadata": {},
   "outputs": [],
   "source": [
    "#sets each thing can only appear once"
   ]
  },
  {
   "cell_type": "code",
   "execution_count": 12,
   "id": "98383c7d-5d1e-4714-a9b9-1fc87d6cf93f",
   "metadata": {},
   "outputs": [],
   "source": [
    "d = set()"
   ]
  },
  {
   "cell_type": "code",
   "execution_count": 13,
   "id": "7597c0c0-5445-4a96-bab8-50f073ba6276",
   "metadata": {},
   "outputs": [],
   "source": [
    "d.add(1)"
   ]
  },
  {
   "cell_type": "code",
   "execution_count": 14,
   "id": "19853473-f6f3-49ce-934d-f984a4cea818",
   "metadata": {},
   "outputs": [
    {
     "data": {
      "text/plain": [
       "{1}"
      ]
     },
     "execution_count": 14,
     "metadata": {},
     "output_type": "execute_result"
    }
   ],
   "source": [
    "d"
   ]
  },
  {
   "cell_type": "code",
   "execution_count": 15,
   "id": "fe3ebf57-77d6-411c-ba94-e40c2b5f82e8",
   "metadata": {},
   "outputs": [],
   "source": [
    "d.add(2)"
   ]
  },
  {
   "cell_type": "code",
   "execution_count": 16,
   "id": "bcfa983d-af7c-428d-9394-b2c4e7afbf0a",
   "metadata": {},
   "outputs": [
    {
     "data": {
      "text/plain": [
       "{1, 2}"
      ]
     },
     "execution_count": 16,
     "metadata": {},
     "output_type": "execute_result"
    }
   ],
   "source": [
    "d"
   ]
  },
  {
   "cell_type": "code",
   "execution_count": 20,
   "id": "47b811fa-3f8b-468a-b3ae-70533f3a60ad",
   "metadata": {},
   "outputs": [],
   "source": [
    "e = True"
   ]
  },
  {
   "cell_type": "code",
   "execution_count": 21,
   "id": "3cf7b6bc-482a-4ee1-87df-23ae94e6c488",
   "metadata": {},
   "outputs": [
    {
     "data": {
      "text/plain": [
       "True"
      ]
     },
     "execution_count": 21,
     "metadata": {},
     "output_type": "execute_result"
    }
   ],
   "source": [
    "e"
   ]
  },
  {
   "cell_type": "code",
   "execution_count": 22,
   "id": "bff097b7-a02c-48e3-a0bd-ffb0171c9156",
   "metadata": {},
   "outputs": [],
   "source": [
    "x = 5"
   ]
  },
  {
   "cell_type": "code",
   "execution_count": 23,
   "id": "22eeebee-fc0c-45cb-aa26-50fc28c17140",
   "metadata": {},
   "outputs": [
    {
     "name": "stdout",
     "output_type": "stream",
     "text": [
      "False\n"
     ]
    }
   ],
   "source": [
    "print (x!=5)"
   ]
  },
  {
   "cell_type": "code",
   "execution_count": 24,
   "id": "fc10349d-7354-4049-8071-943377f46e31",
   "metadata": {},
   "outputs": [
    {
     "name": "stdout",
     "output_type": "stream",
     "text": [
      "True\n"
     ]
    }
   ],
   "source": [
    "x = 5\n",
    "\n",
    "print(x>3 or x <4)"
   ]
  },
  {
   "cell_type": "code",
   "execution_count": null,
   "id": "a0da562c-31f9-4017-a2e7-4aa07b73b617",
   "metadata": {},
   "outputs": [],
   "source": []
  }
 ],
 "metadata": {
  "kernelspec": {
   "display_name": "Python 3",
   "language": "python",
   "name": "python3"
  },
  "language_info": {
   "codemirror_mode": {
    "name": "ipython",
    "version": 3
   },
   "file_extension": ".py",
   "mimetype": "text/x-python",
   "name": "python",
   "nbconvert_exporter": "python",
   "pygments_lexer": "ipython3",
   "version": "3.8.8"
  }
 },
 "nbformat": 4,
 "nbformat_minor": 5
}
