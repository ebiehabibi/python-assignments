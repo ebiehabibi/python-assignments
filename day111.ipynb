{
 "cells": [
  {
   "cell_type": "code",
   "execution_count": 3,
   "id": "6f0f8f29",
   "metadata": {},
   "outputs": [
    {
     "data": {
      "text/plain": [
       "2"
      ]
     },
     "execution_count": 3,
     "metadata": {},
     "output_type": "execute_result"
    }
   ],
   "source": [
    "# this is addition\n",
    "\n",
    "1+1"
   ]
  },
  {
   "cell_type": "code",
   "execution_count": 2,
   "id": "7a1769de",
   "metadata": {},
   "outputs": [],
   "source": [
    "# add comment here"
   ]
  },
  {
   "cell_type": "code",
   "execution_count": 4,
   "id": "5aef9f1a",
   "metadata": {},
   "outputs": [
    {
     "data": {
      "text/plain": [
       "0"
      ]
     },
     "execution_count": 4,
     "metadata": {},
     "output_type": "execute_result"
    }
   ],
   "source": [
    "1-1"
   ]
  },
  {
   "cell_type": "code",
   "execution_count": 6,
   "id": "283f0817",
   "metadata": {},
   "outputs": [
    {
     "data": {
      "text/plain": [
       "3"
      ]
     },
     "execution_count": 6,
     "metadata": {},
     "output_type": "execute_result"
    }
   ],
   "source": [
    "1+2"
   ]
  },
  {
   "cell_type": "code",
   "execution_count": 7,
   "id": "3ab9bbff",
   "metadata": {},
   "outputs": [
    {
     "data": {
      "text/plain": [
       "0.5"
      ]
     },
     "execution_count": 7,
     "metadata": {},
     "output_type": "execute_result"
    }
   ],
   "source": [
    "1/2"
   ]
  },
  {
   "cell_type": "code",
   "execution_count": 8,
   "id": "3f2aa679",
   "metadata": {},
   "outputs": [
    {
     "data": {
      "text/plain": [
       "27"
      ]
     },
     "execution_count": 8,
     "metadata": {},
     "output_type": "execute_result"
    }
   ],
   "source": [
    "3**3"
   ]
  },
  {
   "cell_type": "code",
   "execution_count": 9,
   "id": "1d38994a",
   "metadata": {},
   "outputs": [],
   "source": [
    "a = 1"
   ]
  },
  {
   "cell_type": "code",
   "execution_count": 10,
   "id": "09494360",
   "metadata": {},
   "outputs": [
    {
     "data": {
      "text/plain": [
       "2"
      ]
     },
     "execution_count": 10,
     "metadata": {},
     "output_type": "execute_result"
    }
   ],
   "source": [
    "a + a "
   ]
  },
  {
   "cell_type": "code",
   "execution_count": 11,
   "id": "3b7a15f0",
   "metadata": {},
   "outputs": [],
   "source": [
    "my_number = 1"
   ]
  },
  {
   "cell_type": "code",
   "execution_count": 12,
   "id": "bbf7f3e8",
   "metadata": {},
   "outputs": [],
   "source": [
    "x = 2"
   ]
  },
  {
   "cell_type": "code",
   "execution_count": 13,
   "id": "0a224e9b",
   "metadata": {},
   "outputs": [
    {
     "name": "stdout",
     "output_type": "stream",
     "text": [
      "2\n"
     ]
    }
   ],
   "source": [
    "print(x)"
   ]
  },
  {
   "cell_type": "code",
   "execution_count": 14,
   "id": "0ab65938",
   "metadata": {},
   "outputs": [],
   "source": [
    "x /= 3"
   ]
  },
  {
   "cell_type": "code",
   "execution_count": 15,
   "id": "163739dd",
   "metadata": {},
   "outputs": [
    {
     "name": "stdout",
     "output_type": "stream",
     "text": [
      "0.6666666666666666\n"
     ]
    }
   ],
   "source": [
    "print(x)"
   ]
  },
  {
   "cell_type": "code",
   "execution_count": 16,
   "id": "b3215d6f",
   "metadata": {},
   "outputs": [
    {
     "ename": "NameError",
     "evalue": "name 'hello' is not defined",
     "output_type": "error",
     "traceback": [
      "\u001b[0;31m---------------------------------------------------------------------------\u001b[0m",
      "\u001b[0;31mNameError\u001b[0m                                 Traceback (most recent call last)",
      "\u001b[0;32m<ipython-input-16-f572d396fae9>\u001b[0m in \u001b[0;36m<module>\u001b[0;34m\u001b[0m\n\u001b[0;32m----> 1\u001b[0;31m \u001b[0mhello\u001b[0m\u001b[0;34m\u001b[0m\u001b[0;34m\u001b[0m\u001b[0m\n\u001b[0m",
      "\u001b[0;31mNameError\u001b[0m: name 'hello' is not defined"
     ]
    }
   ],
   "source": [
    "hello"
   ]
  },
  {
   "cell_type": "code",
   "execution_count": 17,
   "id": "57f35226",
   "metadata": {},
   "outputs": [
    {
     "data": {
      "text/plain": [
       "'hello'"
      ]
     },
     "execution_count": 17,
     "metadata": {},
     "output_type": "execute_result"
    }
   ],
   "source": [
    "'hello'"
   ]
  },
  {
   "cell_type": "code",
   "execution_count": 18,
   "id": "30c15076",
   "metadata": {},
   "outputs": [
    {
     "data": {
      "text/plain": [
       "\"hello world, it's me\""
      ]
     },
     "execution_count": 18,
     "metadata": {},
     "output_type": "execute_result"
    }
   ],
   "source": [
    "\"hello world, it's me\""
   ]
  },
  {
   "cell_type": "code",
   "execution_count": 19,
   "id": "c6b69399",
   "metadata": {},
   "outputs": [
    {
     "name": "stdout",
     "output_type": "stream",
     "text": [
      "hello\n"
     ]
    }
   ],
   "source": [
    "print('hello')"
   ]
  },
  {
   "cell_type": "code",
   "execution_count": 20,
   "id": "228eae35",
   "metadata": {},
   "outputs": [
    {
     "name": "stdout",
     "output_type": "stream",
     "text": [
      "hello\n",
      "it's me\n"
     ]
    }
   ],
   "source": [
    "print('hello')\n",
    "print(\"it's me\")"
   ]
  },
  {
   "cell_type": "code",
   "execution_count": 21,
   "id": "74e2ab33",
   "metadata": {},
   "outputs": [
    {
     "name": "stdout",
     "output_type": "stream",
     "text": [
      "hello\n",
      "it's me\n",
      "\n",
      "\n",
      "I was wondering if after all these years you'd like to meet\n"
     ]
    }
   ],
   "source": [
    "print('hello')\n",
    "print(\"it's me\")\n",
    "print('\\n') #linebreak\n",
    "print(\"I was wondering if after all these years you'd like to meet\")"
   ]
  },
  {
   "cell_type": "code",
   "execution_count": 22,
   "id": "728e6979",
   "metadata": {},
   "outputs": [
    {
     "name": "stdout",
     "output_type": "stream",
     "text": [
      "hello yall \n",
      "welcome to python\n"
     ]
    }
   ],
   "source": [
    "print('''hello yall \n",
    "welcome to python''')"
   ]
  },
  {
   "cell_type": "code",
   "execution_count": 23,
   "id": "52180542",
   "metadata": {},
   "outputs": [
    {
     "ename": "SyntaxError",
     "evalue": "invalid character in identifier (<ipython-input-23-975dc4240521>, line 1)",
     "output_type": "error",
     "traceback": [
      "\u001b[0;36m  File \u001b[0;32m\"<ipython-input-23-975dc4240521>\"\u001b[0;36m, line \u001b[0;32m1\u001b[0m\n\u001b[0;31m    Print(type(‘hello’))\u001b[0m\n\u001b[0m                     ^\u001b[0m\n\u001b[0;31mSyntaxError\u001b[0m\u001b[0;31m:\u001b[0m invalid character in identifier\n"
     ]
    }
   ],
   "source": [
    "Print(type(‘hello’))"
   ]
  },
  {
   "cell_type": "code",
   "execution_count": 24,
   "id": "0a3882c0",
   "metadata": {},
   "outputs": [
    {
     "name": "stdout",
     "output_type": "stream",
     "text": [
      "<class 'str'>\n"
     ]
    }
   ],
   "source": [
    "print(type('hello'))"
   ]
  },
  {
   "cell_type": "code",
   "execution_count": 25,
   "id": "21293163",
   "metadata": {},
   "outputs": [
    {
     "data": {
      "text/plain": [
       "5"
      ]
     },
     "execution_count": 25,
     "metadata": {},
     "output_type": "execute_result"
    }
   ],
   "source": [
    "len('hello')"
   ]
  },
  {
   "cell_type": "code",
   "execution_count": 26,
   "id": "11cfb87b",
   "metadata": {},
   "outputs": [
    {
     "data": {
      "text/plain": [
       "7"
      ]
     },
     "execution_count": 26,
     "metadata": {},
     "output_type": "execute_result"
    }
   ],
   "source": [
    "len('whatsup')"
   ]
  },
  {
   "cell_type": "code",
   "execution_count": 27,
   "id": "d20e2a7b",
   "metadata": {},
   "outputs": [],
   "source": [
    "b = 'whats up'"
   ]
  },
  {
   "cell_type": "code",
   "execution_count": 28,
   "id": "9128d608",
   "metadata": {},
   "outputs": [
    {
     "name": "stdout",
     "output_type": "stream",
     "text": [
      "whats up\n"
     ]
    }
   ],
   "source": [
    "print(b)"
   ]
  },
  {
   "cell_type": "code",
   "execution_count": 29,
   "id": "da8d9fbd",
   "metadata": {},
   "outputs": [
    {
     "data": {
      "text/plain": [
       "'w'"
      ]
     },
     "execution_count": 29,
     "metadata": {},
     "output_type": "execute_result"
    }
   ],
   "source": [
    "b[0]"
   ]
  },
  {
   "cell_type": "code",
   "execution_count": 30,
   "id": "bc91bc0d",
   "metadata": {},
   "outputs": [
    {
     "data": {
      "text/plain": [
       "'h'"
      ]
     },
     "execution_count": 30,
     "metadata": {},
     "output_type": "execute_result"
    }
   ],
   "source": [
    "b[1]"
   ]
  },
  {
   "cell_type": "code",
   "execution_count": 31,
   "id": "2cc72399",
   "metadata": {},
   "outputs": [
    {
     "data": {
      "text/plain": [
       "' up'"
      ]
     },
     "execution_count": 31,
     "metadata": {},
     "output_type": "execute_result"
    }
   ],
   "source": [
    "b[5:]"
   ]
  },
  {
   "cell_type": "code",
   "execution_count": 32,
   "id": "9e582bd3",
   "metadata": {},
   "outputs": [
    {
     "data": {
      "text/plain": [
       "'s up'"
      ]
     },
     "execution_count": 32,
     "metadata": {},
     "output_type": "execute_result"
    }
   ],
   "source": [
    "b[4:]"
   ]
  },
  {
   "cell_type": "code",
   "execution_count": 33,
   "id": "2c953284",
   "metadata": {},
   "outputs": [
    {
     "data": {
      "text/plain": [
       "'p'"
      ]
     },
     "execution_count": 33,
     "metadata": {},
     "output_type": "execute_result"
    }
   ],
   "source": [
    "b[-1:]"
   ]
  },
  {
   "cell_type": "code",
   "execution_count": 34,
   "id": "09726bc8",
   "metadata": {},
   "outputs": [
    {
     "data": {
      "text/plain": [
       "'pu stahw'"
      ]
     },
     "execution_count": 34,
     "metadata": {},
     "output_type": "execute_result"
    }
   ],
   "source": [
    "b[::-1]"
   ]
  },
  {
   "cell_type": "code",
   "execution_count": 35,
   "id": "e94d0922",
   "metadata": {},
   "outputs": [
    {
     "data": {
      "text/plain": [
       "'wasu'"
      ]
     },
     "execution_count": 35,
     "metadata": {},
     "output_type": "execute_result"
    }
   ],
   "source": [
    "b[::2]"
   ]
  },
  {
   "cell_type": "code",
   "execution_count": 36,
   "id": "0b36a9a6",
   "metadata": {},
   "outputs": [],
   "source": [
    "# string method "
   ]
  },
  {
   "cell_type": "code",
   "execution_count": 37,
   "id": "87533b10",
   "metadata": {},
   "outputs": [
    {
     "data": {
      "text/plain": [
       "'WHATS UP'"
      ]
     },
     "execution_count": 37,
     "metadata": {},
     "output_type": "execute_result"
    }
   ],
   "source": [
    "b.upper()"
   ]
  },
  {
   "cell_type": "code",
   "execution_count": 38,
   "id": "c2bd586b",
   "metadata": {},
   "outputs": [
    {
     "data": {
      "text/plain": [
       "'whats up'"
      ]
     },
     "execution_count": 38,
     "metadata": {},
     "output_type": "execute_result"
    }
   ],
   "source": [
    "b.lower()"
   ]
  },
  {
   "cell_type": "code",
   "execution_count": 39,
   "id": "9ca8494e",
   "metadata": {},
   "outputs": [
    {
     "data": {
      "text/plain": [
       "['whats', 'up']"
      ]
     },
     "execution_count": 39,
     "metadata": {},
     "output_type": "execute_result"
    }
   ],
   "source": [
    "b.split()"
   ]
  },
  {
   "cell_type": "code",
   "execution_count": 40,
   "id": "85c8d9b9",
   "metadata": {},
   "outputs": [
    {
     "data": {
      "text/plain": [
       "'whats up'"
      ]
     },
     "execution_count": 40,
     "metadata": {},
     "output_type": "execute_result"
    }
   ],
   "source": [
    "b"
   ]
  },
  {
   "cell_type": "code",
   "execution_count": 42,
   "id": "5a9321cb",
   "metadata": {},
   "outputs": [
    {
     "data": {
      "text/plain": [
       "\"whats up it's me\""
      ]
     },
     "execution_count": 42,
     "metadata": {},
     "output_type": "execute_result"
    }
   ],
   "source": [
    "b + \" it's me\""
   ]
  },
  {
   "cell_type": "code",
   "execution_count": 43,
   "id": "4743e3af",
   "metadata": {},
   "outputs": [],
   "source": [
    "# string interpulation"
   ]
  },
  {
   "cell_type": "code",
   "execution_count": 49,
   "id": "67cea999",
   "metadata": {},
   "outputs": [],
   "source": [
    "number = 14"
   ]
  },
  {
   "cell_type": "code",
   "execution_count": 50,
   "id": "76bb962b",
   "metadata": {},
   "outputs": [
    {
     "name": "stdout",
     "output_type": "stream",
     "text": [
      "whats up, there are 14 of us in class\n"
     ]
    }
   ],
   "source": [
    "print(f'whats up, there are {number} of us in class')"
   ]
  },
  {
   "cell_type": "code",
   "execution_count": 51,
   "id": "37d582f6",
   "metadata": {},
   "outputs": [
    {
     "name": "stdout",
     "output_type": "stream",
     "text": [
      "whats up, there are 14 of us in class!\n"
     ]
    }
   ],
   "source": [
    "print(\"whats up, there are {} of us in class!\".format(number))"
   ]
  },
  {
   "cell_type": "code",
   "execution_count": 53,
   "id": "84c21b6e",
   "metadata": {},
   "outputs": [
    {
     "name": "stdout",
     "output_type": "stream",
     "text": [
      "whats up, there are 6 of us in class and today is wednesday\n"
     ]
    }
   ],
   "source": [
    "number = 6\n",
    "day = 'wednesday'\n",
    "print(f'whats up, there are {number} of us in class and today is {day}')"
   ]
  },
  {
   "cell_type": "code",
   "execution_count": 54,
   "id": "af0d122b",
   "metadata": {},
   "outputs": [],
   "source": [
    "# list"
   ]
  },
  {
   "cell_type": "code",
   "execution_count": 55,
   "id": "103f36d2",
   "metadata": {},
   "outputs": [],
   "source": [
    "list_of_years = [2019,2020,2021]"
   ]
  },
  {
   "cell_type": "code",
   "execution_count": 56,
   "id": "3be82887",
   "metadata": {},
   "outputs": [],
   "source": [
    "list_of_events = ['pre-pandemic','pandemic','postpandemic']"
   ]
  },
  {
   "cell_type": "code",
   "execution_count": 57,
   "id": "7d69abf6",
   "metadata": {},
   "outputs": [],
   "source": [
    "list_of_mix = ['pre-pandemic',2020,'post-pandemic']"
   ]
  },
  {
   "cell_type": "code",
   "execution_count": 58,
   "id": "a94ca182",
   "metadata": {},
   "outputs": [
    {
     "data": {
      "text/plain": [
       "3"
      ]
     },
     "execution_count": 58,
     "metadata": {},
     "output_type": "execute_result"
    }
   ],
   "source": [
    "len(list_of_years)"
   ]
  },
  {
   "cell_type": "code",
   "execution_count": 59,
   "id": "9cd42d12",
   "metadata": {},
   "outputs": [
    {
     "data": {
      "text/plain": [
       "2019"
      ]
     },
     "execution_count": 59,
     "metadata": {},
     "output_type": "execute_result"
    }
   ],
   "source": [
    "list_of_years[0]"
   ]
  },
  {
   "cell_type": "code",
   "execution_count": 60,
   "id": "4b495653",
   "metadata": {},
   "outputs": [
    {
     "data": {
      "text/plain": [
       "2020"
      ]
     },
     "execution_count": 60,
     "metadata": {},
     "output_type": "execute_result"
    }
   ],
   "source": [
    "list_of_years[1]"
   ]
  },
  {
   "cell_type": "code",
   "execution_count": 61,
   "id": "c6887662",
   "metadata": {},
   "outputs": [
    {
     "data": {
      "text/plain": [
       "2021"
      ]
     },
     "execution_count": 61,
     "metadata": {},
     "output_type": "execute_result"
    }
   ],
   "source": [
    "list_of_years[2]"
   ]
  },
  {
   "cell_type": "code",
   "execution_count": 62,
   "id": "bdf0f669",
   "metadata": {},
   "outputs": [
    {
     "data": {
      "text/plain": [
       "[2020, 'post-pandemic']"
      ]
     },
     "execution_count": 62,
     "metadata": {},
     "output_type": "execute_result"
    }
   ],
   "source": [
    "list_of_mix[1:]"
   ]
  },
  {
   "cell_type": "code",
   "execution_count": 63,
   "id": "0c31693d",
   "metadata": {},
   "outputs": [
    {
     "data": {
      "text/plain": [
       "['pre-pandemic']"
      ]
     },
     "execution_count": 63,
     "metadata": {},
     "output_type": "execute_result"
    }
   ],
   "source": [
    "list_of_mix[:1]"
   ]
  },
  {
   "cell_type": "code",
   "execution_count": 64,
   "id": "52280d89",
   "metadata": {},
   "outputs": [
    {
     "data": {
      "text/plain": [
       "[2019, 2020, 2021, 2022]"
      ]
     },
     "execution_count": 64,
     "metadata": {},
     "output_type": "execute_result"
    }
   ],
   "source": [
    "list_of_years + [2022]"
   ]
  },
  {
   "cell_type": "code",
   "execution_count": 65,
   "id": "b7900e7a",
   "metadata": {},
   "outputs": [
    {
     "name": "stdout",
     "output_type": "stream",
     "text": [
      "[2019, 2020, 2021]\n"
     ]
    }
   ],
   "source": [
    "print (list_of_years)"
   ]
  },
  {
   "cell_type": "code",
   "execution_count": 66,
   "id": "e747fb6a",
   "metadata": {},
   "outputs": [],
   "source": [
    "list_of_years = list_of_years +[2022]"
   ]
  },
  {
   "cell_type": "code",
   "execution_count": 67,
   "id": "45badab7",
   "metadata": {},
   "outputs": [],
   "source": [
    "# APPEND"
   ]
  },
  {
   "cell_type": "code",
   "execution_count": 68,
   "id": "1ef18b17",
   "metadata": {},
   "outputs": [],
   "source": [
    "list_of_years.append(2023)"
   ]
  },
  {
   "cell_type": "code",
   "execution_count": 69,
   "id": "56f74670",
   "metadata": {},
   "outputs": [
    {
     "name": "stdout",
     "output_type": "stream",
     "text": [
      "[2019, 2020, 2021, 2022, 2023]\n"
     ]
    }
   ],
   "source": [
    "print(list_of_years)"
   ]
  },
  {
   "cell_type": "code",
   "execution_count": 70,
   "id": "f07a7bb3",
   "metadata": {},
   "outputs": [],
   "source": [
    "#pop"
   ]
  },
  {
   "cell_type": "code",
   "execution_count": 72,
   "id": "68d3720c",
   "metadata": {},
   "outputs": [
    {
     "data": {
      "text/plain": [
       "2019"
      ]
     },
     "execution_count": 72,
     "metadata": {},
     "output_type": "execute_result"
    }
   ],
   "source": [
    "list_of_years.pop(0)"
   ]
  },
  {
   "cell_type": "code",
   "execution_count": 73,
   "id": "6a32653e",
   "metadata": {},
   "outputs": [
    {
     "name": "stdout",
     "output_type": "stream",
     "text": [
      "[2020, 2021, 2022, 2023]\n"
     ]
    }
   ],
   "source": [
    "print(list_of_years)"
   ]
  },
  {
   "cell_type": "code",
   "execution_count": 74,
   "id": "1d87ce0e",
   "metadata": {},
   "outputs": [],
   "source": [
    "# sort"
   ]
  },
  {
   "cell_type": "code",
   "execution_count": 75,
   "id": "e6ec21ff",
   "metadata": {},
   "outputs": [],
   "source": [
    "list_of_years.sort()"
   ]
  },
  {
   "cell_type": "code",
   "execution_count": 76,
   "id": "4006ae48",
   "metadata": {},
   "outputs": [
    {
     "name": "stdout",
     "output_type": "stream",
     "text": [
      "['pre-pandemic', 'pandemic', 'postpandemic']\n"
     ]
    }
   ],
   "source": [
    "print (list_of_events)"
   ]
  },
  {
   "cell_type": "code",
   "execution_count": 77,
   "id": "567f4e86",
   "metadata": {},
   "outputs": [],
   "source": [
    "#list"
   ]
  },
  {
   "cell_type": "code",
   "execution_count": 78,
   "id": "72811f2d",
   "metadata": {},
   "outputs": [],
   "source": [
    "first=[1,2,3]\n",
    "second=[4,5,6]\n",
    "third=[7,8,9]"
   ]
  },
  {
   "cell_type": "code",
   "execution_count": 79,
   "id": "1da37135",
   "metadata": {},
   "outputs": [],
   "source": [
    "matrix = [first,second,third]"
   ]
  },
  {
   "cell_type": "code",
   "execution_count": 80,
   "id": "e061d849",
   "metadata": {},
   "outputs": [
    {
     "name": "stdout",
     "output_type": "stream",
     "text": [
      "[[1, 2, 3], [4, 5, 6], [7, 8, 9]]\n"
     ]
    }
   ],
   "source": [
    "print(matrix)"
   ]
  },
  {
   "cell_type": "code",
   "execution_count": 81,
   "id": "0c7dae50",
   "metadata": {},
   "outputs": [],
   "source": [
    "# nested list, putting a list within a list"
   ]
  },
  {
   "cell_type": "code",
   "execution_count": 82,
   "id": "2aaea3a9",
   "metadata": {},
   "outputs": [
    {
     "data": {
      "text/plain": [
       "[1, 2, 3]"
      ]
     },
     "execution_count": 82,
     "metadata": {},
     "output_type": "execute_result"
    }
   ],
   "source": [
    "matrix[0]"
   ]
  },
  {
   "cell_type": "code",
   "execution_count": 83,
   "id": "e5be0a43",
   "metadata": {},
   "outputs": [
    {
     "data": {
      "text/plain": [
       "1"
      ]
     },
     "execution_count": 83,
     "metadata": {},
     "output_type": "execute_result"
    }
   ],
   "source": [
    "matrix[0][0]"
   ]
  },
  {
   "cell_type": "code",
   "execution_count": 84,
   "id": "dbca3812",
   "metadata": {},
   "outputs": [
    {
     "data": {
      "text/plain": [
       "4"
      ]
     },
     "execution_count": 84,
     "metadata": {},
     "output_type": "execute_result"
    }
   ],
   "source": [
    "matrix[1][0]"
   ]
  },
  {
   "cell_type": "code",
   "execution_count": 85,
   "id": "5dffc9df",
   "metadata": {},
   "outputs": [],
   "source": [
    "my_dict = {'key_1 : value_1’, ‘key_2 : value_2’,key_3 : value_3'}"
   ]
  },
  {
   "cell_type": "code",
   "execution_count": 86,
   "id": "fbfb6af4",
   "metadata": {},
   "outputs": [],
   "source": [
    "greeting = \"what's good\""
   ]
  },
  {
   "cell_type": "code",
   "execution_count": 87,
   "id": "04e53d6a",
   "metadata": {},
   "outputs": [
    {
     "name": "stdout",
     "output_type": "stream",
     "text": [
      "what's good\n"
     ]
    }
   ],
   "source": [
    "print(greeting)"
   ]
  },
  {
   "cell_type": "code",
   "execution_count": null,
   "id": "56d35e12",
   "metadata": {},
   "outputs": [],
   "source": []
  }
 ],
 "metadata": {
  "kernelspec": {
   "display_name": "Python 3",
   "language": "python",
   "name": "python3"
  },
  "language_info": {
   "codemirror_mode": {
    "name": "ipython",
    "version": 3
   },
   "file_extension": ".py",
   "mimetype": "text/x-python",
   "name": "python",
   "nbconvert_exporter": "python",
   "pygments_lexer": "ipython3",
   "version": "3.8.8"
  }
 },
 "nbformat": 4,
 "nbformat_minor": 5
}
