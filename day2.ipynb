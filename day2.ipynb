{
 "cells": [
  {
   "cell_type": "code",
   "execution_count": 1,
   "id": "ade94352",
   "metadata": {},
   "outputs": [],
   "source": [
    "# if else statements"
   ]
  },
  {
   "cell_type": "code",
   "execution_count": 4,
   "id": "67af6fb7",
   "metadata": {},
   "outputs": [],
   "source": [
    "x = 'false'"
   ]
  },
  {
   "cell_type": "code",
   "execution_count": 6,
   "id": "44803398",
   "metadata": {},
   "outputs": [
    {
     "name": "stdout",
     "output_type": "stream",
     "text": [
      "true\n"
     ]
    }
   ],
   "source": [
    "\n",
    "if x: # evaluates if x is true\n",
    "    print('true')\n",
    "else:\n",
    "    print('false')"
   ]
  },
  {
   "cell_type": "code",
   "execution_count": 7,
   "id": "7617c9e3",
   "metadata": {},
   "outputs": [],
   "source": [
    "x = 10\n",
    "y = 20"
   ]
  },
  {
   "cell_type": "code",
   "execution_count": 9,
   "id": "c4a64915",
   "metadata": {},
   "outputs": [
    {
     "name": "stdout",
     "output_type": "stream",
     "text": [
      "x is less than y\n"
     ]
    }
   ],
   "source": [
    "if x < y: # this is true\n",
    "    print('x is less than y')\n",
    "else:\n",
    "    print('x is greater than y')"
   ]
  },
  {
   "cell_type": "code",
   "execution_count": 11,
   "id": "bc903911",
   "metadata": {},
   "outputs": [
    {
     "name": "stdout",
     "output_type": "stream",
     "text": [
      "condition met\n"
     ]
    }
   ],
   "source": [
    "if 1 < 2 and 4 > 2:\n",
    "    print('condition met')\n",
    "else:\n",
    "    print('condition not met')"
   ]
  },
  {
   "cell_type": "code",
   "execution_count": 12,
   "id": "f07aa98d",
   "metadata": {},
   "outputs": [
    {
     "name": "stdout",
     "output_type": "stream",
     "text": [
      "condition met\n"
     ]
    }
   ],
   "source": [
    "if 4 < 10 or 1 > 2:\n",
    "    print ('condition met')"
   ]
  },
  {
   "cell_type": "code",
   "execution_count": 13,
   "id": "5e572a5c",
   "metadata": {},
   "outputs": [],
   "source": [
    "# or is either or has to be true"
   ]
  },
  {
   "cell_type": "code",
   "execution_count": 19,
   "id": "4675ca12",
   "metadata": {},
   "outputs": [
    {
     "ename": "IndentationError",
     "evalue": "expected an indented block (<ipython-input-19-d7d3081da972>, line 2)",
     "output_type": "error",
     "traceback": [
      "\u001b[0;36m  File \u001b[0;32m\"<ipython-input-19-d7d3081da972>\"\u001b[0;36m, line \u001b[0;32m2\u001b[0m\n\u001b[0;31m    print ('condition met')\u001b[0m\n\u001b[0m    ^\u001b[0m\n\u001b[0;31mIndentationError\u001b[0m\u001b[0;31m:\u001b[0m expected an indented block\n"
     ]
    }
   ],
   "source": [
    "if 11 < 10 or 1 > 2: # evaluates as false\n",
    "print ('condition met')"
   ]
  },
  {
   "cell_type": "code",
   "execution_count": 23,
   "id": "3cf0808b",
   "metadata": {},
   "outputs": [
    {
     "name": "stdout",
     "output_type": "stream",
     "text": [
      "x is greater than 9\n"
     ]
    }
   ],
   "source": [
    "x = 21\n",
    "if x < 20:\n",
    "    print(\"x is less than 20\")\n",
    "elif x > 9: # evaluates as true\n",
    "    print (\"x is greater than 9\")\n",
    "elif x == 10:\n",
    "    print('x is equal to 10')\n",
    "else:\n",
    "    print (\"i don't know what x is\")"
   ]
  },
  {
   "cell_type": "code",
   "execution_count": 22,
   "id": "193e56da",
   "metadata": {},
   "outputs": [],
   "source": [
    "# = assignment\n",
    "# == check if equal"
   ]
  },
  {
   "cell_type": "code",
   "execution_count": 24,
   "id": "c7dbc2ec",
   "metadata": {},
   "outputs": [],
   "source": [
    "# for loop"
   ]
  },
  {
   "cell_type": "code",
   "execution_count": 25,
   "id": "c7896132",
   "metadata": {},
   "outputs": [],
   "source": [
    "my_list = ['apple, pear, mango']"
   ]
  },
  {
   "cell_type": "code",
   "execution_count": 27,
   "id": "079b4eea",
   "metadata": {},
   "outputs": [
    {
     "name": "stdout",
     "output_type": "stream",
     "text": [
      "apple, pear, mango\n"
     ]
    }
   ],
   "source": [
    "for f in my_list:\n",
    "    print(f)"
   ]
  },
  {
   "cell_type": "code",
   "execution_count": 30,
   "id": "0eda7b92",
   "metadata": {},
   "outputs": [
    {
     "name": "stdout",
     "output_type": "stream",
     "text": [
      "w\n",
      "h\n",
      "a\n",
      "t\n",
      "'\n",
      "s\n",
      " \n",
      "u\n",
      "p\n"
     ]
    }
   ],
   "source": [
    "for l in \"what's up\":\n",
    "    print(l)"
   ]
  },
  {
   "cell_type": "code",
   "execution_count": 31,
   "id": "e2edbfd9",
   "metadata": {},
   "outputs": [],
   "source": [
    "num_list = [3,6,9,12,15,18]"
   ]
  },
  {
   "cell_type": "code",
   "execution_count": 37,
   "id": "816af0e5",
   "metadata": {},
   "outputs": [
    {
     "name": "stdout",
     "output_type": "stream",
     "text": [
      "this is an odd number\n",
      "this is an odd number\n",
      "this is an odd number\n",
      "this is an odd number\n",
      "this is an odd number\n",
      "this is an odd number\n"
     ]
    }
   ],
   "source": [
    "for number in num_list:\n",
    "    if number % 3 == 0:\n",
    "        print (\"this is an odd number\")\n",
    "    else:\n",
    "        print (\"this is an even number\")"
   ]
  },
  {
   "cell_type": "code",
   "execution_count": 44,
   "id": "fe7acd44",
   "metadata": {},
   "outputs": [],
   "source": [
    "tuplelist = (1,2),(3,4),(5,6)"
   ]
  },
  {
   "cell_type": "code",
   "execution_count": 46,
   "id": "2489f1c2",
   "metadata": {},
   "outputs": [
    {
     "data": {
      "text/plain": [
       "3"
      ]
     },
     "execution_count": 46,
     "metadata": {},
     "output_type": "execute_result"
    }
   ],
   "source": [
    "len(tuplelist)"
   ]
  },
  {
   "cell_type": "code",
   "execution_count": 48,
   "id": "c3e4d1de",
   "metadata": {},
   "outputs": [
    {
     "name": "stdout",
     "output_type": "stream",
     "text": [
      "(1, 2)\n",
      "(3, 4)\n",
      "(5, 6)\n"
     ]
    }
   ],
   "source": [
    "for nums in tuplelist:\n",
    "    print(nums)"
   ]
  },
  {
   "cell_type": "code",
   "execution_count": 49,
   "id": "ae2952c5",
   "metadata": {},
   "outputs": [
    {
     "name": "stdout",
     "output_type": "stream",
     "text": [
      "1\n",
      "3\n",
      "5\n"
     ]
    }
   ],
   "source": [
    "for x,y in tuplelist:\n",
    "    print(x)"
   ]
  },
  {
   "cell_type": "code",
   "execution_count": 56,
   "id": "691f7761",
   "metadata": {},
   "outputs": [],
   "source": [
    "dic = { 'key1': 1,'key2': 2,'key3': 3}"
   ]
  },
  {
   "cell_type": "code",
   "execution_count": 57,
   "id": "cc8db909",
   "metadata": {},
   "outputs": [
    {
     "name": "stdout",
     "output_type": "stream",
     "text": [
      "key1\n",
      "key2\n",
      "key3\n"
     ]
    }
   ],
   "source": [
    "for item in dic:\n",
    "    print(item)"
   ]
  },
  {
   "cell_type": "code",
   "execution_count": 58,
   "id": "5d152be6",
   "metadata": {},
   "outputs": [
    {
     "name": "stdout",
     "output_type": "stream",
     "text": [
      "('key1', 1)\n",
      "('key2', 2)\n",
      "('key3', 3)\n"
     ]
    }
   ],
   "source": [
    "for item in dic.items():\n",
    "    print(item)"
   ]
  },
  {
   "cell_type": "code",
   "execution_count": 59,
   "id": "8cb346c8",
   "metadata": {},
   "outputs": [],
   "source": [
    "#tuple unpacking , a way to unzip whats in the pair"
   ]
  },
  {
   "cell_type": "code",
   "execution_count": 61,
   "id": "ed5543ce",
   "metadata": {},
   "outputs": [
    {
     "name": "stdout",
     "output_type": "stream",
     "text": [
      "1\n",
      "2\n",
      "3\n"
     ]
    }
   ],
   "source": [
    "for key, value in dic.items():\n",
    "    print(value)"
   ]
  },
  {
   "cell_type": "code",
   "execution_count": 62,
   "id": "d24d7dd1",
   "metadata": {},
   "outputs": [
    {
     "name": "stdout",
     "output_type": "stream",
     "text": [
      "key1\n",
      "key2\n",
      "key3\n"
     ]
    }
   ],
   "source": [
    "for key, value in dic.items():\n",
    "    print(key)"
   ]
  },
  {
   "cell_type": "code",
   "execution_count": 63,
   "id": "5a6ef4ed",
   "metadata": {},
   "outputs": [],
   "source": [
    "#while loop"
   ]
  },
  {
   "cell_type": "code",
   "execution_count": null,
   "id": "9ac8f4f6",
   "metadata": {},
   "outputs": [],
   "source": [
    "x = 1\n",
    "\n",
    "while x <= 5:\n",
    "    print(x)\n",
    "    x += 1 # x = x + 1"
   ]
  },
  {
   "cell_type": "code",
   "execution_count": null,
   "id": "4aa09d8a",
   "metadata": {},
   "outputs": [],
   "source": [
    "for thing in \"something\":\n",
    "    # do something but i don't know what it is yet\n",
    "    pass"
   ]
  },
  {
   "cell_type": "code",
   "execution_count": 70,
   "id": "6dca653a",
   "metadata": {},
   "outputs": [
    {
     "name": "stdout",
     "output_type": "stream",
     "text": [
      "x is currently: 0\n",
      "x is still less than 3, adding 1 to x\n",
      "continuing ...\n",
      "x is currently: 1\n",
      "x is still less than 3, adding 1 to x\n",
      "continuing ...\n",
      "x is currently: 2\n",
      "x is still less than 3, adding 1 to x\n",
      "breaking because x is equal 3\n"
     ]
    }
   ],
   "source": [
    "x = 0\n",
    "\n",
    "while x <= 3:\n",
    "    print('x is currently:',x)\n",
    "    print('x is still less than 3, adding 1 to x')\n",
    "    x+=1 \n",
    "    if x==3:\n",
    "        print('breaking because x is equal 3')\n",
    "        break\n",
    "    else:\n",
    "        print('continuing ...')\n",
    "        continue\n",
    "        "
   ]
  },
  {
   "cell_type": "code",
   "execution_count": null,
   "id": "b77b9f5b",
   "metadata": {},
   "outputs": [],
   "source": [
    "#list comprehension"
   ]
  },
  {
   "cell_type": "code",
   "execution_count": 68,
   "id": "6a2648e2",
   "metadata": {},
   "outputs": [],
   "source": [
    "squares = []\n",
    "\n",
    "for i in range(10):\n",
    "    squares.append(i*i)"
   ]
  },
  {
   "cell_type": "code",
   "execution_count": 67,
   "id": "375944ca",
   "metadata": {},
   "outputs": [],
   "source": [
    "squares_new = [i*i for i in range (10)]"
   ]
  },
  {
   "cell_type": "code",
   "execution_count": 69,
   "id": "5cb9e7e6",
   "metadata": {},
   "outputs": [
    {
     "data": {
      "text/plain": [
       "[0, 1, 4, 9, 16, 25, 36, 49, 64, 81]"
      ]
     },
     "execution_count": 69,
     "metadata": {},
     "output_type": "execute_result"
    }
   ],
   "source": [
    "squares_new"
   ]
  },
  {
   "cell_type": "code",
   "execution_count": 75,
   "id": "071c6a96",
   "metadata": {},
   "outputs": [],
   "source": [
    "celsius = [0,10,50.5,32.2222]"
   ]
  },
  {
   "cell_type": "code",
   "execution_count": 76,
   "id": "99ce13b1",
   "metadata": {},
   "outputs": [],
   "source": [
    "fahrenheit = []\n",
    "\n",
    "for temp in celsius: \n",
    "    fahrenheit.append(((9/5)*temp + 32))"
   ]
  },
  {
   "cell_type": "code",
   "execution_count": 77,
   "id": "09906340",
   "metadata": {},
   "outputs": [
    {
     "data": {
      "text/plain": [
       "[32.0, 50.0, 122.9, 89.99996]"
      ]
     },
     "execution_count": 77,
     "metadata": {},
     "output_type": "execute_result"
    }
   ],
   "source": [
    "fahrenheit"
   ]
  },
  {
   "cell_type": "code",
   "execution_count": 78,
   "id": "f03c721b",
   "metadata": {},
   "outputs": [],
   "source": [
    "fahrenheit = [((9/5)*temp + 32) for temp in celsius]"
   ]
  },
  {
   "cell_type": "code",
   "execution_count": 79,
   "id": "5c01a820",
   "metadata": {},
   "outputs": [
    {
     "data": {
      "text/plain": [
       "[32.0, 50.0, 122.9, 89.99996]"
      ]
     },
     "execution_count": 79,
     "metadata": {},
     "output_type": "execute_result"
    }
   ],
   "source": [
    "fahrenheit"
   ]
  },
  {
   "cell_type": "code",
   "execution_count": 80,
   "id": "7483f2b7",
   "metadata": {},
   "outputs": [],
   "source": [
    "# functions , def = define"
   ]
  },
  {
   "cell_type": "code",
   "execution_count": 84,
   "id": "76c205dc",
   "metadata": {},
   "outputs": [],
   "source": [
    "def greeting():\n",
    "    ''' this is a greeting function that prints what's good'''\n",
    "    print (\"what's good\")"
   ]
  },
  {
   "cell_type": "raw",
   "id": "734437a9",
   "metadata": {},
   "source": []
  },
  {
   "cell_type": "code",
   "execution_count": 85,
   "id": "eac0cd72",
   "metadata": {},
   "outputs": [
    {
     "name": "stdout",
     "output_type": "stream",
     "text": [
      "what's good\n"
     ]
    }
   ],
   "source": [
    "greeting()"
   ]
  },
  {
   "cell_type": "code",
   "execution_count": 86,
   "id": "7e920e48",
   "metadata": {},
   "outputs": [
    {
     "name": "stdout",
     "output_type": "stream",
     "text": [
      "Help on function greeting in module __main__:\n",
      "\n",
      "greeting()\n",
      "    this is a greeting function that prints what's good\n",
      "\n"
     ]
    }
   ],
   "source": [
    "help(greeting)"
   ]
  },
  {
   "cell_type": "code",
   "execution_count": 88,
   "id": "a104bb96",
   "metadata": {},
   "outputs": [
    {
     "name": "stdout",
     "output_type": "stream",
     "text": [
      "what's good\n",
      "what's good\n",
      "what's good\n",
      "what's good\n",
      "what's good\n",
      "what's good\n",
      "what's good\n",
      "what's good\n",
      "what's good\n",
      "what's good\n"
     ]
    }
   ],
   "source": [
    "for x in range (10):\n",
    "    greeting()"
   ]
  },
  {
   "cell_type": "code",
   "execution_count": 89,
   "id": "2315aa7a",
   "metadata": {},
   "outputs": [],
   "source": [
    "# the purpose helps is that it helps you define a code thats executable multiple times "
   ]
  },
  {
   "cell_type": "code",
   "execution_count": 96,
   "id": "8b5b8037",
   "metadata": {},
   "outputs": [],
   "source": [
    "def greeting(name):\n",
    "    print (f\"what's good {name}\")"
   ]
  },
  {
   "cell_type": "code",
   "execution_count": 95,
   "id": "4ca3ff84",
   "metadata": {},
   "outputs": [
    {
     "name": "stdout",
     "output_type": "stream",
     "text": [
      "what's good Ebie\n"
     ]
    }
   ],
   "source": [
    "greeting(' Ebie')"
   ]
  },
  {
   "cell_type": "code",
   "execution_count": 97,
   "id": "9cac3810",
   "metadata": {},
   "outputs": [],
   "source": [
    "def add_number(number1,number2):\n",
    "    return number1+number2"
   ]
  },
  {
   "cell_type": "code",
   "execution_count": 100,
   "id": "a2f990bf",
   "metadata": {},
   "outputs": [
    {
     "data": {
      "text/plain": [
       "3"
      ]
     },
     "execution_count": 100,
     "metadata": {},
     "output_type": "execute_result"
    }
   ],
   "source": [
    "add_number(1,2)"
   ]
  },
  {
   "cell_type": "code",
   "execution_count": 99,
   "id": "05f3d562",
   "metadata": {},
   "outputs": [],
   "source": [
    "#return kee enables you to save result, you can set it as = total"
   ]
  },
  {
   "cell_type": "code",
   "execution_count": 101,
   "id": "8216f2c4",
   "metadata": {},
   "outputs": [],
   "source": [
    "total = add_number(1,2)"
   ]
  },
  {
   "cell_type": "code",
   "execution_count": 102,
   "id": "c5ed6779",
   "metadata": {},
   "outputs": [
    {
     "data": {
      "text/plain": [
       "3"
      ]
     },
     "execution_count": 102,
     "metadata": {},
     "output_type": "execute_result"
    }
   ],
   "source": [
    "total"
   ]
  },
  {
   "cell_type": "code",
   "execution_count": 103,
   "id": "59c8f120",
   "metadata": {},
   "outputs": [],
   "source": [
    "# tuples"
   ]
  },
  {
   "cell_type": "code",
   "execution_count": 105,
   "id": "33c97cc2",
   "metadata": {},
   "outputs": [],
   "source": [
    "score_board = [('jason', 344), ('sophie', 433), ('abi',322)]"
   ]
  },
  {
   "cell_type": "code",
   "execution_count": 112,
   "id": "307fa175",
   "metadata": {},
   "outputs": [],
   "source": [
    "def check_score(points):\n",
    "    highest_score = 0\n",
    "    winner = ''\n",
    "    \n",
    "    for player, score in score_board:\n",
    "        if score > highest_score:\n",
    "            highest_score = score\n",
    "            winner = player\n",
    "        else: \n",
    "            pass\n",
    "    return (winner, highest_score)"
   ]
  },
  {
   "cell_type": "code",
   "execution_count": 113,
   "id": "f1793f4c",
   "metadata": {},
   "outputs": [
    {
     "data": {
      "text/plain": [
       "('sophie', 433)"
      ]
     },
     "execution_count": 113,
     "metadata": {},
     "output_type": "execute_result"
    }
   ],
   "source": [
    "check_score(score_board)"
   ]
  },
  {
   "cell_type": "code",
   "execution_count": 114,
   "id": "81078a3c",
   "metadata": {},
   "outputs": [],
   "source": [
    "winner = check_score(score_board)"
   ]
  },
  {
   "cell_type": "code",
   "execution_count": 115,
   "id": "fa691955",
   "metadata": {},
   "outputs": [],
   "source": [
    "winner, score = check_score(score_board)"
   ]
  },
  {
   "cell_type": "code",
   "execution_count": 116,
   "id": "6e18c6b0",
   "metadata": {},
   "outputs": [
    {
     "data": {
      "text/plain": [
       "'sophie'"
      ]
     },
     "execution_count": 116,
     "metadata": {},
     "output_type": "execute_result"
    }
   ],
   "source": [
    "winner"
   ]
  },
  {
   "cell_type": "code",
   "execution_count": 117,
   "id": "27a3695c",
   "metadata": {},
   "outputs": [
    {
     "data": {
      "text/plain": [
       "433"
      ]
     },
     "execution_count": 117,
     "metadata": {},
     "output_type": "execute_result"
    }
   ],
   "source": [
    "score"
   ]
  },
  {
   "cell_type": "code",
   "execution_count": 118,
   "id": "0992d9f3",
   "metadata": {},
   "outputs": [],
   "source": [
    "numbers = [1,2,3,4,5]"
   ]
  },
  {
   "cell_type": "code",
   "execution_count": 119,
   "id": "e1227953",
   "metadata": {},
   "outputs": [],
   "source": [
    "numbers.append(6)"
   ]
  },
  {
   "cell_type": "code",
   "execution_count": 121,
   "id": "c936bd7f",
   "metadata": {},
   "outputs": [
    {
     "data": {
      "text/plain": [
       "[1, 2, 3, 4, 5, 6]"
      ]
     },
     "execution_count": 121,
     "metadata": {},
     "output_type": "execute_result"
    }
   ],
   "source": [
    "numbers"
   ]
  },
  {
   "cell_type": "code",
   "execution_count": 122,
   "id": "7a9ca1ca",
   "metadata": {},
   "outputs": [],
   "source": [
    "#append is adding on to list"
   ]
  },
  {
   "cell_type": "code",
   "execution_count": 123,
   "id": "9ae47d79",
   "metadata": {},
   "outputs": [
    {
     "data": {
      "text/plain": [
       "1"
      ]
     },
     "execution_count": 123,
     "metadata": {},
     "output_type": "execute_result"
    }
   ],
   "source": [
    "numbers.count(2)"
   ]
  },
  {
   "cell_type": "code",
   "execution_count": 124,
   "id": "a11d3739",
   "metadata": {},
   "outputs": [
    {
     "data": {
      "text/plain": [
       "1"
      ]
     },
     "execution_count": 124,
     "metadata": {},
     "output_type": "execute_result"
    }
   ],
   "source": [
    "numbers.pop(0)"
   ]
  },
  {
   "cell_type": "code",
   "execution_count": 125,
   "id": "88e1145a",
   "metadata": {},
   "outputs": [
    {
     "data": {
      "text/plain": [
       "[2, 3, 4, 5, 6]"
      ]
     },
     "execution_count": 125,
     "metadata": {},
     "output_type": "execute_result"
    }
   ],
   "source": [
    "numbers"
   ]
  },
  {
   "cell_type": "code",
   "execution_count": 126,
   "id": "9770ed3f",
   "metadata": {},
   "outputs": [],
   "source": [
    "numbers.insert(0,1)"
   ]
  },
  {
   "cell_type": "code",
   "execution_count": 127,
   "id": "76928251",
   "metadata": {},
   "outputs": [
    {
     "name": "stdout",
     "output_type": "stream",
     "text": [
      "[1, 2, 3, 4, 5, 6]\n"
     ]
    }
   ],
   "source": [
    "print(numbers)"
   ]
  },
  {
   "cell_type": "code",
   "execution_count": 128,
   "id": "5cb23811",
   "metadata": {},
   "outputs": [],
   "source": [
    "numbers.reverse()"
   ]
  },
  {
   "cell_type": "code",
   "execution_count": 129,
   "id": "efdea347",
   "metadata": {},
   "outputs": [
    {
     "name": "stdout",
     "output_type": "stream",
     "text": [
      "[6, 5, 4, 3, 2, 1]\n"
     ]
    }
   ],
   "source": [
    "print(numbers)"
   ]
  },
  {
   "cell_type": "code",
   "execution_count": 130,
   "id": "281df171",
   "metadata": {},
   "outputs": [],
   "source": [
    "numbers.sort()"
   ]
  },
  {
   "cell_type": "code",
   "execution_count": 131,
   "id": "d7eb71e3",
   "metadata": {},
   "outputs": [
    {
     "name": "stdout",
     "output_type": "stream",
     "text": [
      "[1, 2, 3, 4, 5, 6]\n"
     ]
    }
   ],
   "source": [
    "print(numbers)"
   ]
  },
  {
   "cell_type": "code",
   "execution_count": 132,
   "id": "0fc754c3",
   "metadata": {},
   "outputs": [],
   "source": [
    "#string methods"
   ]
  },
  {
   "cell_type": "code",
   "execution_count": 134,
   "id": "bf69f2b6",
   "metadata": {},
   "outputs": [],
   "source": [
    "my_string = \"oNcE UpOn a TIME...\""
   ]
  },
  {
   "cell_type": "code",
   "execution_count": null,
   "id": "d2799afa",
   "metadata": {},
   "outputs": [],
   "source": [
    "\n"
   ]
  }
 ],
 "metadata": {
  "kernelspec": {
   "display_name": "Python 3",
   "language": "python",
   "name": "python3"
  },
  "language_info": {
   "codemirror_mode": {
    "name": "ipython",
    "version": 3
   },
   "file_extension": ".py",
   "mimetype": "text/x-python",
   "name": "python",
   "nbconvert_exporter": "python",
   "pygments_lexer": "ipython3",
   "version": "3.8.8"
  }
 },
 "nbformat": 4,
 "nbformat_minor": 5
}
