{
 "cells": [
  {
   "cell_type": "code",
   "execution_count": 2,
   "id": "5654caf3-bf30-42d2-90cb-f43bb841b4ec",
   "metadata": {},
   "outputs": [
    {
     "name": "stdout",
     "output_type": "stream",
     "text": [
      "what's up, yall\n"
     ]
    }
   ],
   "source": [
    "print(\"what's up, yall\")"
   ]
  },
  {
   "cell_type": "code",
   "execution_count": 4,
   "id": "1569fca9-ca67-4e21-8f8c-e91e6af51314",
   "metadata": {},
   "outputs": [
    {
     "name": "stdout",
     "output_type": "stream",
     "text": [
      "she said,\"are you f%#king joking???\"\n"
     ]
    }
   ],
   "source": [
    "print('she said,\\\"are you f%#king joking???\"')"
   ]
  },
  {
   "cell_type": "code",
   "execution_count": 5,
   "id": "76ad5b48-26b9-4686-b226-43de2c8b083e",
   "metadata": {},
   "outputs": [],
   "source": [
    "my_string = 'i hate to love you'"
   ]
  },
  {
   "cell_type": "code",
   "execution_count": 6,
   "id": "1735fc5e-db97-4410-b429-34041da7ab5a",
   "metadata": {},
   "outputs": [
    {
     "name": "stdout",
     "output_type": "stream",
     "text": [
      "i hate to love you\n"
     ]
    }
   ],
   "source": [
    "print(my_string)"
   ]
  },
  {
   "cell_type": "code",
   "execution_count": 69,
   "id": "8fd20252-90d4-4ba1-9316-fd40615525a9",
   "metadata": {},
   "outputs": [],
   "source": [
    "my_string = 'i hate that i love you' + ' but i can never leave you'"
   ]
  },
  {
   "cell_type": "code",
   "execution_count": 70,
   "id": "84b22ca6-345f-4d32-905c-069930b5b67b",
   "metadata": {},
   "outputs": [
    {
     "name": "stdout",
     "output_type": "stream",
     "text": [
      "i hate that i love you but i can never leave you\n"
     ]
    }
   ],
   "source": [
    "print(my_string)"
   ]
  },
  {
   "cell_type": "code",
   "execution_count": 11,
   "id": "86f3864c-fdc3-43f2-9b97-b853e5fa5ac5",
   "metadata": {},
   "outputs": [],
   "source": [
    "my_string += ' :( :( :('"
   ]
  },
  {
   "cell_type": "markdown",
   "id": "67a2fa19-5bd5-4a02-a78a-6ddfe9b1209b",
   "metadata": {},
   "source": [
    "print(my_string)"
   ]
  },
  {
   "cell_type": "code",
   "execution_count": 71,
   "id": "78a2219f-1f1a-401f-a782-1ecd2626009c",
   "metadata": {},
   "outputs": [],
   "source": [
    "my_string = 'i hate that i love you but i can never leave you  :( :( :(' * 3"
   ]
  },
  {
   "cell_type": "code",
   "execution_count": 72,
   "id": "cdca873f-5a7c-4f74-a489-3ab2d2562643",
   "metadata": {},
   "outputs": [
    {
     "name": "stdout",
     "output_type": "stream",
     "text": [
      "i hate that i love you but i can never leave you  :( :( :(i hate that i love you but i can never leave you  :( :( :(i hate that i love you but i can never leave you  :( :( :(\n"
     ]
    }
   ],
   "source": [
    "print(my_string)"
   ]
  },
  {
   "cell_type": "code",
   "execution_count": 19,
   "id": "8f72a708-3d30-4adf-af64-02066fbeb4df",
   "metadata": {},
   "outputs": [],
   "source": [
    "def saymyname():\n",
    "    \n",
    "    '''this is jus a function to print my name very dramatically with three periods'''\n",
    "    print('Eeeeebiiiiiiiieeeee...')"
   ]
  },
  {
   "cell_type": "code",
   "execution_count": 23,
   "id": "c66dfe72-d159-4f3a-aa96-4dd52835ce06",
   "metadata": {},
   "outputs": [],
   "source": [
    "def createuserID(last,first): \n",
    "    return(last[0:4] + first[0])"
   ]
  },
  {
   "cell_type": "code",
   "execution_count": 25,
   "id": "d44aa14f-876e-4220-8f64-e1256dda161d",
   "metadata": {},
   "outputs": [],
   "source": [
    "myUserID = createuserID('Love', 'Ebie')"
   ]
  },
  {
   "cell_type": "code",
   "execution_count": 26,
   "id": "208011e6-8aaa-4f29-8012-efa1ef2f7d1c",
   "metadata": {},
   "outputs": [
    {
     "name": "stdout",
     "output_type": "stream",
     "text": [
      "I HATE TO LOVE YOU & I CAN NEVER LEAVE YOU  :( :( :(I HATE TO LOVE YOU & I CAN NEVER LEAVE YOU  :( :( :(I HATE TO LOVE YOU & I CAN NEVER LEAVE YOU  :( :( :(\n"
     ]
    }
   ],
   "source": [
    "print(my_string.swapcase())"
   ]
  },
  {
   "cell_type": "code",
   "execution_count": 27,
   "id": "eb3b41f6-d295-4663-bf4e-725ca3ee630e",
   "metadata": {},
   "outputs": [
    {
     "name": "stdout",
     "output_type": "stream",
     "text": [
      "i hate to love you & i can never leave you  :( :( :(i hate to love you & i can never leave you  :( :( :(i hate to love you & i can never leave you  :( :( :(\n"
     ]
    }
   ],
   "source": [
    "print(my_string.lower())"
   ]
  },
  {
   "cell_type": "code",
   "execution_count": 36,
   "id": "5ad5fe80-c212-4d8a-863f-e8e325d7ce5d",
   "metadata": {},
   "outputs": [
    {
     "name": "stdout",
     "output_type": "stream",
     "text": [
      "Eeeeebiiiiiiiieeeee...\n",
      "None\n"
     ]
    }
   ],
   "source": [
    "print(saymyname())"
   ]
  },
  {
   "cell_type": "code",
   "execution_count": 32,
   "id": "75c1bd4f-b77a-4706-b3e2-fdd4a3a75ba3",
   "metadata": {},
   "outputs": [
    {
     "name": "stdout",
     "output_type": "stream",
     "text": [
      "|i hate to love you & i can never leave you  :( :( :(i hate to love you & i can never leave you  :( :( :(i hate to love you & i can never leave you  :( :( :(|\n"
     ]
    }
   ],
   "source": [
    "print('|' + my_string.lstrip()+'|')"
   ]
  },
  {
   "cell_type": "code",
   "execution_count": 33,
   "id": "ad05d784-ecd2-4299-bef8-30dec3d47d4b",
   "metadata": {},
   "outputs": [
    {
     "name": "stdout",
     "output_type": "stream",
     "text": [
      "i hate to love you & i can never leave you  :( :( :(i hate to love you & i can never leave you  :( :( :(i hate to love you & i can never leave you  :( :( :(\n"
     ]
    }
   ],
   "source": [
    "print(my_string.rstrip('&'))"
   ]
  },
  {
   "cell_type": "code",
   "execution_count": 34,
   "id": "ca28b358-0090-449e-b62d-8a9080e44ed2",
   "metadata": {},
   "outputs": [],
   "source": [
    "#print(my_string.replace ('____','____'))"
   ]
  },
  {
   "cell_type": "code",
   "execution_count": 37,
   "id": "3dc4f738-1c78-46e7-a71c-c82f88d8c791",
   "metadata": {},
   "outputs": [],
   "source": [
    "my_string = 'on the cancer sun scorpio moon...'"
   ]
  },
  {
   "cell_type": "code",
   "execution_count": 39,
   "id": "d3d48f6c-3f37-41d1-8645-5aa3fe608dbc",
   "metadata": {},
   "outputs": [],
   "source": [
    "what_i_wanted_to_say = 'i hate that i love you but i could never leave you'"
   ]
  },
  {
   "cell_type": "code",
   "execution_count": 40,
   "id": "9d336400-fa77-4b32-b41b-5bee1fe10ef5",
   "metadata": {},
   "outputs": [],
   "source": [
    "what_i_said = \"Hasn't the weather been so nice in New York?\""
   ]
  },
  {
   "cell_type": "code",
   "execution_count": 45,
   "id": "348231d3-9d3b-4c6d-b8f2-af271aaa4dec",
   "metadata": {},
   "outputs": [],
   "source": [
    "what_i_wanted_to_say_length = len(what_i_wanted_to_say)\n",
    "what_i_said_length = len(what_i_said)"
   ]
  },
  {
   "cell_type": "code",
   "execution_count": 48,
   "id": "1bb5c3b7-6c2e-40ec-972a-2ceb24084b4b",
   "metadata": {},
   "outputs": [
    {
     "name": "stdout",
     "output_type": "stream",
     "text": [
      "what i wanted to say hasi hate that i love you but i could never leave youcharacters.\n",
      "what i said hasHasn't the weather been so nice in New York?characters.\n"
     ]
    }
   ],
   "source": [
    "print('what i wanted to say has' + str(what_i_wanted_to_say) + 'characters.')\n",
    "print('what i said has' + str(what_i_said) + 'characters.')"
   ]
  },
  {
   "cell_type": "code",
   "execution_count": 51,
   "id": "b540eaf7-6c55-498e-b5fe-f6f97130584b",
   "metadata": {},
   "outputs": [],
   "source": [
    "terms = ['candy coated','honey dipped']"
   ]
  },
  {
   "cell_type": "code",
   "execution_count": 52,
   "id": "73b8e79c-7f8d-4fb6-b8cd-6c99dafe180f",
   "metadata": {},
   "outputs": [
    {
     "name": "stdout",
     "output_type": "stream",
     "text": [
      "['candy coated', 'honey dipped']\n"
     ]
    }
   ],
   "source": [
    "print(terms)"
   ]
  },
  {
   "cell_type": "code",
   "execution_count": 53,
   "id": "303bfb5e-bb66-4040-978f-374e024005da",
   "metadata": {},
   "outputs": [
    {
     "name": "stdout",
     "output_type": "stream",
     "text": [
      "candy coated\n",
      "honey dipped\n"
     ]
    }
   ],
   "source": [
    "for term in terms:\n",
    "    print(term)"
   ]
  },
  {
   "cell_type": "code",
   "execution_count": 54,
   "id": "0067c150-b45d-46a6-9a30-6cd84b0ccd22",
   "metadata": {},
   "outputs": [],
   "source": [
    "str = 'sweeter than soursop'"
   ]
  },
  {
   "cell_type": "code",
   "execution_count": 64,
   "id": "3b5ef6b4-73e1-4e84-8186-4a4bbde172cd",
   "metadata": {},
   "outputs": [
    {
     "name": "stdout",
     "output_type": "stream",
     "text": [
      "sweeter than soursop\n"
     ]
    }
   ],
   "source": [
    "print(li2str)"
   ]
  },
  {
   "cell_type": "code",
   "execution_count": 59,
   "id": "0040ed20-3af8-44f5-86a2-3cee0148fbdf",
   "metadata": {},
   "outputs": [],
   "source": []
  },
  {
   "cell_type": "code",
   "execution_count": 65,
   "id": "cda2e0f9-abe1-4e17-91b7-9620ade1af5f",
   "metadata": {},
   "outputs": [
    {
     "name": "stdout",
     "output_type": "stream",
     "text": [
      "sweeter than soursop\n"
     ]
    }
   ],
   "source": [
    "print(li2str)"
   ]
  },
  {
   "cell_type": "code",
   "execution_count": 62,
   "id": "ac0949c7-0d3e-410a-a798-b82d9c88abd8",
   "metadata": {},
   "outputs": [],
   "source": [
    "li2str = ' '. join(str2li)"
   ]
  },
  {
   "cell_type": "code",
   "execution_count": 63,
   "id": "2e14e5b6-ca8d-490c-8821-8de660d11d33",
   "metadata": {},
   "outputs": [
    {
     "name": "stdout",
     "output_type": "stream",
     "text": [
      "sweeter than soursop\n"
     ]
    }
   ],
   "source": [
    "print(li2str)"
   ]
  },
  {
   "cell_type": "code",
   "execution_count": 81,
   "id": "d1d98b74-637d-44a4-9b34-d6c0b35cf55f",
   "metadata": {},
   "outputs": [
    {
     "ename": "SyntaxError",
     "evalue": "invalid syntax (<ipython-input-81-584760ab852e>, line 1)",
     "output_type": "error",
     "traceback": [
      "\u001b[0;36m  File \u001b[0;32m\"<ipython-input-81-584760ab852e>\"\u001b[0;36m, line \u001b[0;32m1\u001b[0m\n\u001b[0;31m    favorites = {'fruit': 'mangos','colors':['seafoam','red''],'numbers':['3','9', '11'],'places': ['my dreams','the beach']}\u001b[0m\n\u001b[0m                                                                ^\u001b[0m\n\u001b[0;31mSyntaxError\u001b[0m\u001b[0;31m:\u001b[0m invalid syntax\n"
     ]
    }
   ],
   "source": [
    "favorites = {'fruit': 'mangos','colors':['seafoam','red''],'numbers':['3','9', '11'],'places': ['my dreams','the beach']}"
   ]
  },
  {
   "cell_type": "code",
   "execution_count": 82,
   "id": "93b18035-4e46-4fda-a73b-48dbe9309d92",
   "metadata": {},
   "outputs": [],
   "source": [
    "# import matplotlib.plyplot as plt"
   ]
  },
  {
   "cell_type": "code",
   "execution_count": null,
   "id": "de2788b6-580d-4199-85ff-f963023b75e6",
   "metadata": {},
   "outputs": [],
   "source": []
  },
  {
   "cell_type": "code",
   "execution_count": null,
   "id": "b4eefc24-aa6e-4bd2-a682-f330d4221e3e",
   "metadata": {},
   "outputs": [],
   "source": []
  }
 ],
 "metadata": {
  "kernelspec": {
   "display_name": "Python 3",
   "language": "python",
   "name": "python3"
  },
  "language_info": {
   "codemirror_mode": {
    "name": "ipython",
    "version": 3
   },
   "file_extension": ".py",
   "mimetype": "text/x-python",
   "name": "python",
   "nbconvert_exporter": "python",
   "pygments_lexer": "ipython3",
   "version": "3.8.8"
  }
 },
 "nbformat": 4,
 "nbformat_minor": 5
}
