{
 "cells": [
  {
   "cell_type": "code",
   "execution_count": 15,
   "id": "dc466e09-a068-4119-9281-243f7ef7d0ee",
   "metadata": {},
   "outputs": [
    {
     "name": "stdout",
     "output_type": "stream",
     "text": [
      "Gentle kisses...\n",
      "sink in to your skin\n",
      "\n",
      "\n",
      "pinched in pink\n",
      "the wind sings the lullaby you'd cry to\n",
      "\n",
      "\n",
      "All night\n",
      "moons hidden in plain sight\n",
      "\n",
      "\n",
      "The feeling is heavy\n",
      "yet i'm prepared to confront the\n",
      "\n",
      "\n",
      "Oh so powerful yet humble offering\n",
      "of my guides and protectors\n",
      "\n",
      "\n",
      "For the offspring that came\n",
      "before and after me\n",
      "\n",
      "\n",
      "in to my skin, the mantras\n",
      "sink in\n",
      "\n",
      "\n",
      "Gentle kisses asrise\n",
      "in the garden of my mind\n",
      "\n",
      "\n",
      "My Devi Whispers\n",
      "I'm only an AUM away \n",
      "I'm only an AUM away \n",
      "I'm only an AUM away \n",
      "I'm only an AUM away \n",
      "I'm only an AUM away \n",
      "I'm only an AUM away \n",
      "I'm only an AUM away \n",
      "I'm only an AUM away \n",
      "I'm only an AUM away \n",
      "I'm only an AUM away \n",
      "I'm only an AUM away \n"
     ]
    }
   ],
   "source": [
    "a = \"in\"\n",
    "b = \"to\"\n",
    "\n",
    "def greeting(): \n",
    "    print(\"I'm only an AUM away \")\n",
    "    \n",
    "muah = \"kisses\"\n",
    "print(f'Gentle {muah}...')\n",
    "print(f\"sink {a} {b} your skin\")\n",
    "print('\\n') \n",
    "print('pinched in pink')\n",
    "print(\"the wind sings the lullaby you'd cry to\")\n",
    "print('\\n') \n",
    "print('All night')\n",
    "print('moons hidden in plain sight')\n",
    "print('\\n')\n",
    "print('The feeling is heavy')\n",
    "print(\"yet i'm prepared to confront the\")\n",
    "print('\\n')\n",
    "print('Oh so powerful yet humble offering')\n",
    "print('of my guides and protectors')\n",
    "print('\\n')\n",
    "print('For the offspring that came')\n",
    "print('before and after me')\n",
    "print('\\n')\n",
    "print(f'{a} {b} my skin, the mantras')\n",
    "print(f'sink {a}')\n",
    "print('\\n')\n",
    "print(F'Gentle {muah} asrise')\n",
    "print(f'{a} the garden of my mind')\n",
    "print('\\n')\n",
    "print('My Devi Whispers')\n",
    "greeting()\n",
    "for x in range (10):\n",
    "    greeting()"
   ]
  },
  {
   "cell_type": "code",
   "execution_count": null,
   "id": "16418ce8-82ac-45d3-9444-9152d6ea6561",
   "metadata": {},
   "outputs": [],
   "source": []
  }
 ],
 "metadata": {
  "kernelspec": {
   "display_name": "Python 3",
   "language": "python",
   "name": "python3"
  },
  "language_info": {
   "codemirror_mode": {
    "name": "ipython",
    "version": 3
   },
   "file_extension": ".py",
   "mimetype": "text/x-python",
   "name": "python",
   "nbconvert_exporter": "python",
   "pygments_lexer": "ipython3",
   "version": "3.8.8"
  }
 },
 "nbformat": 4,
 "nbformat_minor": 5
}
